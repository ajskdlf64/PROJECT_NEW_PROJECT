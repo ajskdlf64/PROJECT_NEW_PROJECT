{
 "cells": [
  {
   "cell_type": "code",
   "execution_count": 1,
   "metadata": {},
   "outputs": [],
   "source": [
    "# 데이터 불러오기\n",
    "import pandas as pd\n",
    "dataset = pd.read_csv('./total_price.csv')\n",
    "\n",
    "# Del Unnamed: 0\n",
    "del dataset['Unnamed: 0']\n",
    "\n",
    "# l1~l4 line Setting\n",
    "for step in ['l1', 'l2', 'l3', 'l4'] : \n",
    "    dataset[step] = dataset[step].apply(lambda x : str(x)).apply(lambda x : x[1:]).apply(lambda x : float(x))\n",
    "    \n",
    "# Warning Message\n",
    "import warnings\n",
    "warnings.filterwarnings(action='ignore') \n",
    "\n",
    "# 작업하는 모든 코드 리스트\n",
    "code_list = dataset.code.unique()"
   ]
  },
  {
   "cell_type": "code",
   "execution_count": 2,
   "metadata": {
    "scrolled": false
   },
   "outputs": [
    {
     "name": "stdout",
     "output_type": "stream",
     "text": [
      "현재    1번째 종목 진행중...( 0.05%)\n",
      "Train on 675 samples, validate on 226 samples\n",
      "Epoch 1/30\n",
      "675/675 [==============================] - 0s 676us/sample - loss: 28474976.2131 - val_loss: 1809567.3518\n",
      "Epoch 2/30\n",
      "675/675 [==============================] - 0s 24us/sample - loss: 1548789.4846 - val_loss: 1832186.2146\n",
      "Epoch 3/30\n",
      "675/675 [==============================] - 0s 26us/sample - loss: 1539370.5154 - val_loss: 1460001.6460\n",
      "Epoch 4/30\n",
      "675/675 [==============================] - 0s 26us/sample - loss: 1530918.8331 - val_loss: 1222873.5708\n",
      "Epoch 5/30\n",
      "675/675 [==============================] - 0s 26us/sample - loss: 1542873.5298 - val_loss: 1397867.9004\n",
      "Epoch 6/30\n",
      "675/675 [==============================] - 0s 24us/sample - loss: 1551658.0796 - val_loss: 2945699.6195\n",
      "Epoch 7/30\n",
      "675/675 [==============================] - 0s 25us/sample - loss: 1616641.2369 - val_loss: 2397722.6106\n",
      "Epoch 8/30\n",
      "675/675 [==============================] - 0s 24us/sample - loss: 1566565.7565 - val_loss: 1586119.3075\n",
      "Epoch 9/30\n",
      "675/675 [==============================] - 0s 26us/sample - loss: 1533404.3059 - val_loss: 1125459.6626\n",
      "Epoch 10/30\n",
      "675/675 [==============================] - 0s 25us/sample - loss: 1574885.8878 - val_loss: 1710732.0885\n",
      "Epoch 11/30\n",
      "675/675 [==============================] - 0s 26us/sample - loss: 1540855.3943 - val_loss: 1096766.9779\n",
      "Epoch 12/30\n",
      "675/675 [==============================] - 0s 26us/sample - loss: 1556547.3513 - val_loss: 2495368.1106\n",
      "Epoch 13/30\n",
      "675/675 [==============================] - 0s 26us/sample - loss: 1634943.7763 - val_loss: 969955.3319\n",
      "Epoch 14/30\n",
      "675/675 [==============================] - 0s 26us/sample - loss: 1594219.2106 - val_loss: 1451944.3739\n",
      "Epoch 15/30\n",
      "675/675 [==============================] - 0s 25us/sample - loss: 1538487.2498 - val_loss: 3152697.7212\n",
      "Epoch 16/30\n",
      "675/675 [==============================] - 0s 25us/sample - loss: 1628817.2909 - val_loss: 1530486.8805\n",
      "Epoch 17/30\n",
      "675/675 [==============================] - 0s 25us/sample - loss: 1571582.1543 - val_loss: 1425084.0420\n",
      "Epoch 18/30\n",
      "675/675 [==============================] - 0s 25us/sample - loss: 1573869.1396 - val_loss: 2281629.2765\n",
      "Epoch 19/30\n",
      "675/675 [==============================] - 0s 25us/sample - loss: 1535289.8339 - val_loss: 1285625.6482\n",
      "Epoch 20/30\n",
      "675/675 [==============================] - 0s 26us/sample - loss: 1551634.8056 - val_loss: 1223821.1704\n",
      "Epoch 21/30\n",
      "675/675 [==============================] - 0s 26us/sample - loss: 1548586.0683 - val_loss: 1422878.5265\n",
      "Epoch 22/30\n",
      "675/675 [==============================] - 0s 27us/sample - loss: 1555180.0400 - val_loss: 1897415.5310\n",
      "Epoch 23/30\n",
      "675/675 [==============================] - 0s 27us/sample - loss: 1551057.7509 - val_loss: 1376683.2832\n",
      "Epoch 24/30\n",
      "675/675 [==============================] - 0s 25us/sample - loss: 1539858.2100 - val_loss: 1659804.0133\n",
      "Epoch 25/30\n",
      "675/675 [==============================] - 0s 26us/sample - loss: 1535086.4739 - val_loss: 1978215.2102\n",
      "Epoch 26/30\n",
      "675/675 [==============================] - 0s 25us/sample - loss: 1600582.1539 - val_loss: 1514394.9004\n",
      "Epoch 27/30\n",
      "675/675 [==============================] - 0s 25us/sample - loss: 1565070.2926 - val_loss: 2228047.5553\n",
      "Epoch 28/30\n",
      "675/675 [==============================] - 0s 25us/sample - loss: 1568648.7911 - val_loss: 1092775.9823\n",
      "Epoch 29/30\n",
      "675/675 [==============================] - 0s 26us/sample - loss: 1558880.0222 - val_loss: 1777033.7146\n",
      "Epoch 30/30\n",
      "675/675 [==============================] - 0s 24us/sample - loss: 1542535.1152 - val_loss: 1114887.7965\n"
     ]
    }
   ],
   "source": [
    "# 오늘의 예측 데이터프레임\n",
    "today_df = pd.DataFrame()\n",
    "\n",
    "# 진행중 계산\n",
    "step = 1\n",
    "\n",
    "# 모든 코드 진행\n",
    "for code in code_list[:1] : \n",
    "    \n",
    "    # 코드 변환\n",
    "    code_1 = code\n",
    "    code_2 = str(code).rjust(6, '0')\n",
    "    \n",
    "    # 진행 결과문 표시\n",
    "    if step % 250 == 1 :\n",
    "        print('현재 {:4}번째 종목 진행중...({:5.2f}%)' .format(step, 100*step/len(code_list)))\n",
    "    step += 1\n",
    "    \n",
    "    # 코드에 해당하는 데이터만 추출\n",
    "    data = dataset[dataset['code'] == code_1]\n",
    "    \n",
    "    # 내일 종가 예측\n",
    "    data['y'] = data['close'].shift(-1)\n",
    "    data = data.dropna()\n",
    "    \n",
    "    # X,y \n",
    "    X = data[['open', 'high', 'low', 'close', 'trading_volume', 'score', 'index',\n",
    "              'probability', 'l1', 'l2', 'l3', 'lgap', 'lrate']]\n",
    "    y = data['y']\n",
    "    \n",
    "    # Model\n",
    "    import tensorflow as tf\n",
    "    model = tf.keras.Sequential([\n",
    "            tf.keras.layers.Dense(units=8, activation='tanh', input_shape=(X.shape[-1],)),\n",
    "            tf.keras.layers.Dense(units=8, activation='tanh'),\n",
    "            tf.keras.layers.Dense(units=8, activation='tanh'),\n",
    "            tf.keras.layers.Dense(units=8, activation='tanh'),\n",
    "            tf.keras.layers.Dense(units=8, activation='tanh'),\n",
    "            tf.keras.layers.Dense(units=8, activation='tanh'),\n",
    "            tf.keras.layers.Dense(units=1)])\n",
    "    model.compile(optimizer=tf.keras.optimizers.SGD(lr=0.07), loss='mse')\n",
    "    history = model.fit(X, y, epochs=30, batch_size=128, validation_split=0.25)\n",
    "    callbacks=[tf.keras.callbacks.EarlyStopping(patience=3, monitor='val_loss')]"
   ]
  },
  {
   "cell_type": "code",
   "execution_count": 3,
   "metadata": {},
   "outputs": [
    {
     "name": "stdout",
     "output_type": "stream",
     "text": [
      "901/901 [==============================] - 0s 27us/sample - loss: 1502233.1761\n"
     ]
    },
    {
     "data": {
      "text/plain": [
       "1502233.176054384"
      ]
     },
     "execution_count": 3,
     "metadata": {},
     "output_type": "execute_result"
    }
   ],
   "source": [
    "model.evaluate(X,y)"
   ]
  }
 ],
 "metadata": {
  "kernelspec": {
   "display_name": "Python 3",
   "language": "python",
   "name": "python3"
  },
  "language_info": {
   "codemirror_mode": {
    "name": "ipython",
    "version": 3
   },
   "file_extension": ".py",
   "mimetype": "text/x-python",
   "name": "python",
   "nbconvert_exporter": "python",
   "pygments_lexer": "ipython3",
   "version": "3.7.3"
  }
 },
 "nbformat": 4,
 "nbformat_minor": 2
}
