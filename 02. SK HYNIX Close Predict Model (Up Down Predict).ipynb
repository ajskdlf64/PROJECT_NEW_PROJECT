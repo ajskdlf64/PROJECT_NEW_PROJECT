{
 "cells": [
  {
   "cell_type": "markdown",
   "metadata": {},
   "source": [
    "**데이터 불러오기**"
   ]
  },
  {
   "cell_type": "code",
   "execution_count": 1,
   "metadata": {},
   "outputs": [],
   "source": [
    "import pandas as pd\n",
    "data = pd.read_csv('./data/000660.csv')"
   ]
  },
  {
   "cell_type": "markdown",
   "metadata": {},
   "source": [
    "**데이터 칼럼명 영어로 바꾸기**"
   ]
  },
  {
   "cell_type": "code",
   "execution_count": 2,
   "metadata": {},
   "outputs": [],
   "source": [
    "data.columns = ['Date', 'Close', 'Open', 'High', 'Low', 'Volume', 'Rate']"
   ]
  },
  {
   "cell_type": "markdown",
   "metadata": {},
   "source": [
    "**데이터 날짜 형식 바꾸기**"
   ]
  },
  {
   "cell_type": "code",
   "execution_count": 3,
   "metadata": {},
   "outputs": [],
   "source": [
    "Date = data['Date'].apply(lambda x : x.replace('년 ','-'))\\\n",
    "                   .apply(lambda x : x.replace('월 ','-'))\\\n",
    "                   .apply(lambda x : x.replace('일',''))\n",
    "data['Date'] = Date"
   ]
  },
  {
   "cell_type": "markdown",
   "metadata": {},
   "source": [
    "**데이터에 들어있는 숫자형식 바꾸기 (, 제거)**"
   ]
  },
  {
   "cell_type": "code",
   "execution_count": 4,
   "metadata": {},
   "outputs": [],
   "source": [
    "import numpy as np\n",
    "Close = data['Close'].apply(lambda x : x.replace(',','')).apply(lambda x : np.float(x))\n",
    "data['Close'] = Close\n",
    "\n",
    "Open = data['Open'].apply(lambda x : x.replace(',','')).apply(lambda x : np.float(x))\n",
    "data['Open'] = Open\n",
    "\n",
    "High = data['High'].apply(lambda x : x.replace(',','')).apply(lambda x : np.float(x))\n",
    "data['High'] = High\n",
    "\n",
    "Low = data['Low'].apply(lambda x : x.replace(',','')).apply(lambda x : np.float(x))\n",
    "data['Low'] = Low"
   ]
  },
  {
   "cell_type": "markdown",
   "metadata": {},
   "source": [
    "**데이터 순서 뒤집기**"
   ]
  },
  {
   "cell_type": "code",
   "execution_count": 5,
   "metadata": {},
   "outputs": [],
   "source": [
    "data = data[::-1]"
   ]
  },
  {
   "cell_type": "markdown",
   "metadata": {},
   "source": [
    "**Index 날짜로 지정하기**"
   ]
  },
  {
   "cell_type": "code",
   "execution_count": 6,
   "metadata": {},
   "outputs": [],
   "source": [
    "data = data.set_index('Date')"
   ]
  },
  {
   "cell_type": "markdown",
   "metadata": {},
   "source": [
    "**필요없는 변수(Volumne, Rate) 제거하기**"
   ]
  },
  {
   "cell_type": "code",
   "execution_count": 7,
   "metadata": {},
   "outputs": [],
   "source": [
    "del data['Volume']\n",
    "del data['Rate']"
   ]
  },
  {
   "cell_type": "markdown",
   "metadata": {},
   "source": [
    "**중간 결과**"
   ]
  },
  {
   "cell_type": "code",
   "execution_count": 8,
   "metadata": {
    "scrolled": false
   },
   "outputs": [
    {
     "data": {
      "text/html": [
       "<div>\n",
       "<style scoped>\n",
       "    .dataframe tbody tr th:only-of-type {\n",
       "        vertical-align: middle;\n",
       "    }\n",
       "\n",
       "    .dataframe tbody tr th {\n",
       "        vertical-align: top;\n",
       "    }\n",
       "\n",
       "    .dataframe thead th {\n",
       "        text-align: right;\n",
       "    }\n",
       "</style>\n",
       "<table border=\"1\" class=\"dataframe\">\n",
       "  <thead>\n",
       "    <tr style=\"text-align: right;\">\n",
       "      <th></th>\n",
       "      <th>Close</th>\n",
       "      <th>Open</th>\n",
       "      <th>High</th>\n",
       "      <th>Low</th>\n",
       "    </tr>\n",
       "    <tr>\n",
       "      <th>Date</th>\n",
       "      <th></th>\n",
       "      <th></th>\n",
       "      <th></th>\n",
       "      <th></th>\n",
       "    </tr>\n",
       "  </thead>\n",
       "  <tbody>\n",
       "    <tr>\n",
       "      <th>2011-08-23</th>\n",
       "      <td>17050.0</td>\n",
       "      <td>16200.0</td>\n",
       "      <td>17050.0</td>\n",
       "      <td>16000.0</td>\n",
       "    </tr>\n",
       "    <tr>\n",
       "      <th>2011-08-24</th>\n",
       "      <td>16250.0</td>\n",
       "      <td>17200.0</td>\n",
       "      <td>17550.0</td>\n",
       "      <td>15900.0</td>\n",
       "    </tr>\n",
       "    <tr>\n",
       "      <th>2011-08-25</th>\n",
       "      <td>17300.0</td>\n",
       "      <td>16900.0</td>\n",
       "      <td>17700.0</td>\n",
       "      <td>16700.0</td>\n",
       "    </tr>\n",
       "    <tr>\n",
       "      <th>2011-08-26</th>\n",
       "      <td>17950.0</td>\n",
       "      <td>17050.0</td>\n",
       "      <td>17950.0</td>\n",
       "      <td>16950.0</td>\n",
       "    </tr>\n",
       "    <tr>\n",
       "      <th>2011-08-29</th>\n",
       "      <td>19450.0</td>\n",
       "      <td>18550.0</td>\n",
       "      <td>19600.0</td>\n",
       "      <td>18350.0</td>\n",
       "    </tr>\n",
       "    <tr>\n",
       "      <th>...</th>\n",
       "      <td>...</td>\n",
       "      <td>...</td>\n",
       "      <td>...</td>\n",
       "      <td>...</td>\n",
       "    </tr>\n",
       "    <tr>\n",
       "      <th>2020-02-13</th>\n",
       "      <td>102000.0</td>\n",
       "      <td>100500.0</td>\n",
       "      <td>103500.0</td>\n",
       "      <td>100500.0</td>\n",
       "    </tr>\n",
       "    <tr>\n",
       "      <th>2020-02-14</th>\n",
       "      <td>104500.0</td>\n",
       "      <td>101500.0</td>\n",
       "      <td>105000.0</td>\n",
       "      <td>101000.0</td>\n",
       "    </tr>\n",
       "    <tr>\n",
       "      <th>2020-02-16</th>\n",
       "      <td>104500.0</td>\n",
       "      <td>104500.0</td>\n",
       "      <td>104500.0</td>\n",
       "      <td>104500.0</td>\n",
       "    </tr>\n",
       "    <tr>\n",
       "      <th>2020-02-17</th>\n",
       "      <td>105000.0</td>\n",
       "      <td>104500.0</td>\n",
       "      <td>106000.0</td>\n",
       "      <td>103500.0</td>\n",
       "    </tr>\n",
       "    <tr>\n",
       "      <th>2020-02-18</th>\n",
       "      <td>102000.0</td>\n",
       "      <td>103500.0</td>\n",
       "      <td>104000.0</td>\n",
       "      <td>102000.0</td>\n",
       "    </tr>\n",
       "  </tbody>\n",
       "</table>\n",
       "<p>2397 rows × 4 columns</p>\n",
       "</div>"
      ],
      "text/plain": [
       "               Close      Open      High       Low\n",
       "Date                                              \n",
       "2011-08-23   17050.0   16200.0   17050.0   16000.0\n",
       "2011-08-24   16250.0   17200.0   17550.0   15900.0\n",
       "2011-08-25   17300.0   16900.0   17700.0   16700.0\n",
       "2011-08-26   17950.0   17050.0   17950.0   16950.0\n",
       "2011-08-29   19450.0   18550.0   19600.0   18350.0\n",
       "...              ...       ...       ...       ...\n",
       "2020-02-13  102000.0  100500.0  103500.0  100500.0\n",
       "2020-02-14  104500.0  101500.0  105000.0  101000.0\n",
       "2020-02-16  104500.0  104500.0  104500.0  104500.0\n",
       "2020-02-17  105000.0  104500.0  106000.0  103500.0\n",
       "2020-02-18  102000.0  103500.0  104000.0  102000.0\n",
       "\n",
       "[2397 rows x 4 columns]"
      ]
     },
     "execution_count": 8,
     "metadata": {},
     "output_type": "execute_result"
    }
   ],
   "source": [
    "data"
   ]
  },
  {
   "cell_type": "markdown",
   "metadata": {},
   "source": [
    "**1일 후의 종가 생성**"
   ]
  },
  {
   "cell_type": "code",
   "execution_count": 9,
   "metadata": {},
   "outputs": [],
   "source": [
    "data['Close_1'] = data['Close'].shift(-1)"
   ]
  },
  {
   "cell_type": "markdown",
   "metadata": {},
   "source": [
    "**1일 후와 현재 종가 사이의 차이 계산**"
   ]
  },
  {
   "cell_type": "code",
   "execution_count": 10,
   "metadata": {},
   "outputs": [],
   "source": [
    "data['Label'] = data['Close_1'] - data['Close']"
   ]
  },
  {
   "cell_type": "markdown",
   "metadata": {},
   "source": [
    "**상승 하락으로 라벨링**"
   ]
  },
  {
   "cell_type": "code",
   "execution_count": 11,
   "metadata": {},
   "outputs": [],
   "source": [
    "data['UP_DOWN'] = data['Label'].apply(lambda x : 1 if x > 0 else -1)"
   ]
  },
  {
   "cell_type": "markdown",
   "metadata": {},
   "source": [
    "**필요없는 변수 제거**"
   ]
  },
  {
   "cell_type": "code",
   "execution_count": 12,
   "metadata": {},
   "outputs": [],
   "source": [
    "del data['Close_1']\n",
    "del data['Label']"
   ]
  },
  {
   "cell_type": "markdown",
   "metadata": {},
   "source": [
    "**중간 결과**"
   ]
  },
  {
   "cell_type": "code",
   "execution_count": 13,
   "metadata": {},
   "outputs": [
    {
     "data": {
      "text/html": [
       "<div>\n",
       "<style scoped>\n",
       "    .dataframe tbody tr th:only-of-type {\n",
       "        vertical-align: middle;\n",
       "    }\n",
       "\n",
       "    .dataframe tbody tr th {\n",
       "        vertical-align: top;\n",
       "    }\n",
       "\n",
       "    .dataframe thead th {\n",
       "        text-align: right;\n",
       "    }\n",
       "</style>\n",
       "<table border=\"1\" class=\"dataframe\">\n",
       "  <thead>\n",
       "    <tr style=\"text-align: right;\">\n",
       "      <th></th>\n",
       "      <th>Close</th>\n",
       "      <th>Open</th>\n",
       "      <th>High</th>\n",
       "      <th>Low</th>\n",
       "      <th>UP_DOWN</th>\n",
       "    </tr>\n",
       "    <tr>\n",
       "      <th>Date</th>\n",
       "      <th></th>\n",
       "      <th></th>\n",
       "      <th></th>\n",
       "      <th></th>\n",
       "      <th></th>\n",
       "    </tr>\n",
       "  </thead>\n",
       "  <tbody>\n",
       "    <tr>\n",
       "      <th>2011-08-23</th>\n",
       "      <td>17050.0</td>\n",
       "      <td>16200.0</td>\n",
       "      <td>17050.0</td>\n",
       "      <td>16000.0</td>\n",
       "      <td>-1</td>\n",
       "    </tr>\n",
       "    <tr>\n",
       "      <th>2011-08-24</th>\n",
       "      <td>16250.0</td>\n",
       "      <td>17200.0</td>\n",
       "      <td>17550.0</td>\n",
       "      <td>15900.0</td>\n",
       "      <td>1</td>\n",
       "    </tr>\n",
       "    <tr>\n",
       "      <th>2011-08-25</th>\n",
       "      <td>17300.0</td>\n",
       "      <td>16900.0</td>\n",
       "      <td>17700.0</td>\n",
       "      <td>16700.0</td>\n",
       "      <td>1</td>\n",
       "    </tr>\n",
       "    <tr>\n",
       "      <th>2011-08-26</th>\n",
       "      <td>17950.0</td>\n",
       "      <td>17050.0</td>\n",
       "      <td>17950.0</td>\n",
       "      <td>16950.0</td>\n",
       "      <td>1</td>\n",
       "    </tr>\n",
       "    <tr>\n",
       "      <th>2011-08-29</th>\n",
       "      <td>19450.0</td>\n",
       "      <td>18550.0</td>\n",
       "      <td>19600.0</td>\n",
       "      <td>18350.0</td>\n",
       "      <td>-1</td>\n",
       "    </tr>\n",
       "    <tr>\n",
       "      <th>...</th>\n",
       "      <td>...</td>\n",
       "      <td>...</td>\n",
       "      <td>...</td>\n",
       "      <td>...</td>\n",
       "      <td>...</td>\n",
       "    </tr>\n",
       "    <tr>\n",
       "      <th>2020-02-13</th>\n",
       "      <td>102000.0</td>\n",
       "      <td>100500.0</td>\n",
       "      <td>103500.0</td>\n",
       "      <td>100500.0</td>\n",
       "      <td>1</td>\n",
       "    </tr>\n",
       "    <tr>\n",
       "      <th>2020-02-14</th>\n",
       "      <td>104500.0</td>\n",
       "      <td>101500.0</td>\n",
       "      <td>105000.0</td>\n",
       "      <td>101000.0</td>\n",
       "      <td>-1</td>\n",
       "    </tr>\n",
       "    <tr>\n",
       "      <th>2020-02-16</th>\n",
       "      <td>104500.0</td>\n",
       "      <td>104500.0</td>\n",
       "      <td>104500.0</td>\n",
       "      <td>104500.0</td>\n",
       "      <td>1</td>\n",
       "    </tr>\n",
       "    <tr>\n",
       "      <th>2020-02-17</th>\n",
       "      <td>105000.0</td>\n",
       "      <td>104500.0</td>\n",
       "      <td>106000.0</td>\n",
       "      <td>103500.0</td>\n",
       "      <td>-1</td>\n",
       "    </tr>\n",
       "    <tr>\n",
       "      <th>2020-02-18</th>\n",
       "      <td>102000.0</td>\n",
       "      <td>103500.0</td>\n",
       "      <td>104000.0</td>\n",
       "      <td>102000.0</td>\n",
       "      <td>-1</td>\n",
       "    </tr>\n",
       "  </tbody>\n",
       "</table>\n",
       "<p>2397 rows × 5 columns</p>\n",
       "</div>"
      ],
      "text/plain": [
       "               Close      Open      High       Low  UP_DOWN\n",
       "Date                                                       \n",
       "2011-08-23   17050.0   16200.0   17050.0   16000.0       -1\n",
       "2011-08-24   16250.0   17200.0   17550.0   15900.0        1\n",
       "2011-08-25   17300.0   16900.0   17700.0   16700.0        1\n",
       "2011-08-26   17950.0   17050.0   17950.0   16950.0        1\n",
       "2011-08-29   19450.0   18550.0   19600.0   18350.0       -1\n",
       "...              ...       ...       ...       ...      ...\n",
       "2020-02-13  102000.0  100500.0  103500.0  100500.0        1\n",
       "2020-02-14  104500.0  101500.0  105000.0  101000.0       -1\n",
       "2020-02-16  104500.0  104500.0  104500.0  104500.0        1\n",
       "2020-02-17  105000.0  104500.0  106000.0  103500.0       -1\n",
       "2020-02-18  102000.0  103500.0  104000.0  102000.0       -1\n",
       "\n",
       "[2397 rows x 5 columns]"
      ]
     },
     "execution_count": 13,
     "metadata": {},
     "output_type": "execute_result"
    }
   ],
   "source": [
    "data"
   ]
  },
  {
   "cell_type": "markdown",
   "metadata": {},
   "source": [
    "**Train Test Split**"
   ]
  },
  {
   "cell_type": "code",
   "execution_count": 14,
   "metadata": {},
   "outputs": [],
   "source": [
    "train = data[:2000]\n",
    "test = data[2001:]"
   ]
  },
  {
   "cell_type": "markdown",
   "metadata": {},
   "source": [
    "**Target Input Split**"
   ]
  },
  {
   "cell_type": "code",
   "execution_count": 15,
   "metadata": {},
   "outputs": [],
   "source": [
    "X_train = train[train.columns[:-1]]\n",
    "y_train = train[train.columns[-1:]]\n",
    "X_test = test[test.columns[:-1]]\n",
    "y_test = test[test.columns[-1:]]"
   ]
  },
  {
   "cell_type": "markdown",
   "metadata": {},
   "source": [
    "**넘파이 어레이로 변경**"
   ]
  },
  {
   "cell_type": "code",
   "execution_count": 16,
   "metadata": {},
   "outputs": [],
   "source": [
    "X_train = np.array(X_train)\n",
    "y_train = np.array(y_train)\n",
    "X_test = np.array(X_test)\n",
    "y_test = np.array(y_test)"
   ]
  },
  {
   "cell_type": "markdown",
   "metadata": {},
   "source": [
    "**데이터 정규화**"
   ]
  },
  {
   "cell_type": "code",
   "execution_count": 17,
   "metadata": {},
   "outputs": [],
   "source": [
    "mean = X_train.mean(axis=0)\n",
    "X_train -= mean\n",
    "std = X_train.std(axis=0)\n",
    "X_train /= std\n",
    "X_test -= mean\n",
    "X_test /= std"
   ]
  },
  {
   "cell_type": "markdown",
   "metadata": {},
   "source": [
    "**DNN**"
   ]
  },
  {
   "cell_type": "code",
   "execution_count": 18,
   "metadata": {
    "scrolled": true
   },
   "outputs": [
    {
     "name": "stderr",
     "output_type": "stream",
     "text": [
      "Using TensorFlow backend.\n"
     ]
    },
    {
     "name": "stdout",
     "output_type": "stream",
     "text": [
      "WARNING:tensorflow:From /usr/local/lib/python3.6/dist-packages/keras/backend/tensorflow_backend.py:74: The name tf.get_default_graph is deprecated. Please use tf.compat.v1.get_default_graph instead.\n",
      "\n",
      "WARNING:tensorflow:From /usr/local/lib/python3.6/dist-packages/keras/backend/tensorflow_backend.py:517: The name tf.placeholder is deprecated. Please use tf.compat.v1.placeholder instead.\n",
      "\n",
      "WARNING:tensorflow:From /usr/local/lib/python3.6/dist-packages/keras/backend/tensorflow_backend.py:4138: The name tf.random_uniform is deprecated. Please use tf.random.uniform instead.\n",
      "\n",
      "WARNING:tensorflow:From /usr/local/lib/python3.6/dist-packages/keras/optimizers.py:790: The name tf.train.Optimizer is deprecated. Please use tf.compat.v1.train.Optimizer instead.\n",
      "\n",
      "WARNING:tensorflow:From /usr/local/lib/python3.6/dist-packages/keras/backend/tensorflow_backend.py:3376: The name tf.log is deprecated. Please use tf.math.log instead.\n",
      "\n",
      "WARNING:tensorflow:From /usr/local/lib/python3.6/dist-packages/tensorflow/python/ops/nn_impl.py:180: add_dispatch_support.<locals>.wrapper (from tensorflow.python.ops.array_ops) is deprecated and will be removed in a future version.\n",
      "Instructions for updating:\n",
      "Use tf.where in 2.0, which has the same broadcast rule as np.where\n",
      "WARNING:tensorflow:From /usr/local/lib/python3.6/dist-packages/keras/backend/tensorflow_backend.py:986: The name tf.assign_add is deprecated. Please use tf.compat.v1.assign_add instead.\n",
      "\n",
      "Epoch 1/20\n",
      "2000/2000 [==============================] - 3s 2ms/step - loss: 0.8704 - acc: 0.2600\n",
      "Epoch 2/20\n",
      "2000/2000 [==============================] - 0s 11us/step - loss: 0.7964 - acc: 0.2545\n",
      "Epoch 3/20\n",
      "2000/2000 [==============================] - 0s 11us/step - loss: 0.7461 - acc: 0.2505\n",
      "Epoch 4/20\n",
      "2000/2000 [==============================] - 0s 9us/step - loss: 0.7040 - acc: 0.2450\n",
      "Epoch 5/20\n",
      "2000/2000 [==============================] - 0s 10us/step - loss: 0.6665 - acc: 0.2395\n",
      "Epoch 6/20\n",
      "2000/2000 [==============================] - 0s 10us/step - loss: 0.6319 - acc: 0.2345\n",
      "Epoch 7/20\n",
      "2000/2000 [==============================] - 0s 9us/step - loss: 0.5991 - acc: 0.2285\n",
      "Epoch 8/20\n",
      "2000/2000 [==============================] - 0s 9us/step - loss: 0.5679 - acc: 0.2195\n",
      "Epoch 9/20\n",
      "2000/2000 [==============================] - 0s 9us/step - loss: 0.5381 - acc: 0.2030\n",
      "Epoch 10/20\n",
      "2000/2000 [==============================] - 0s 10us/step - loss: 0.5093 - acc: 0.1885\n",
      "Epoch 11/20\n",
      "2000/2000 [==============================] - 0s 10us/step - loss: 0.4820 - acc: 0.1665\n",
      "Epoch 12/20\n",
      "2000/2000 [==============================] - 0s 9us/step - loss: 0.4561 - acc: 0.1115\n",
      "Epoch 13/20\n",
      "2000/2000 [==============================] - 0s 9us/step - loss: 0.4313 - acc: 0.0340\n",
      "Epoch 14/20\n",
      "2000/2000 [==============================] - 0s 10us/step - loss: 0.4076 - acc: 0.0000e+00\n",
      "Epoch 15/20\n",
      "2000/2000 [==============================] - 0s 11us/step - loss: 0.3852 - acc: 0.0000e+00\n",
      "Epoch 16/20\n",
      "2000/2000 [==============================] - 0s 10us/step - loss: 0.3635 - acc: 0.0000e+00\n",
      "Epoch 17/20\n",
      "2000/2000 [==============================] - 0s 10us/step - loss: 0.3427 - acc: 0.0000e+00\n",
      "Epoch 18/20\n",
      "2000/2000 [==============================] - 0s 10us/step - loss: 0.3228 - acc: 0.0000e+00\n",
      "Epoch 19/20\n",
      "2000/2000 [==============================] - 0s 11us/step - loss: 0.3035 - acc: 0.0000e+00\n",
      "Epoch 20/20\n",
      "2000/2000 [==============================] - 0s 11us/step - loss: 0.2846 - acc: 0.0000e+00\n"
     ]
    }
   ],
   "source": [
    "from keras import models\n",
    "from keras import layers\n",
    "\n",
    "model = models.Sequential()\n",
    "model.add(layers.Dense(16, activation='relu', input_shape=(X_train.shape[-1],)))\n",
    "model.add(layers.Dense(1, activation='sigmoid'))\n",
    "model.compile(optimizer='rmsprop', loss='binary_crossentropy', metrics=['acc'])\n",
    "history = model.fit(X_train, y_train,\n",
    "                    epochs=20,\n",
    "                    batch_size=512,\n",
    "                    verbose = 1)"
   ]
  },
  {
   "cell_type": "code",
   "execution_count": 19,
   "metadata": {},
   "outputs": [
    {
     "data": {
      "text/html": [
       "<div>\n",
       "<style scoped>\n",
       "    .dataframe tbody tr th:only-of-type {\n",
       "        vertical-align: middle;\n",
       "    }\n",
       "\n",
       "    .dataframe tbody tr th {\n",
       "        vertical-align: top;\n",
       "    }\n",
       "\n",
       "    .dataframe thead th {\n",
       "        text-align: right;\n",
       "    }\n",
       "</style>\n",
       "<table border=\"1\" class=\"dataframe\">\n",
       "  <thead>\n",
       "    <tr style=\"text-align: right;\">\n",
       "      <th></th>\n",
       "      <th>PRED</th>\n",
       "      <th>UP_DOWN</th>\n",
       "      <th>OX</th>\n",
       "      <th>ACC</th>\n",
       "    </tr>\n",
       "  </thead>\n",
       "  <tbody>\n",
       "    <tr>\n",
       "      <th>0</th>\n",
       "      <td>-1</td>\n",
       "      <td>-1</td>\n",
       "      <td>0</td>\n",
       "      <td>1</td>\n",
       "    </tr>\n",
       "    <tr>\n",
       "      <th>1</th>\n",
       "      <td>-1</td>\n",
       "      <td>1</td>\n",
       "      <td>2</td>\n",
       "      <td>0</td>\n",
       "    </tr>\n",
       "    <tr>\n",
       "      <th>2</th>\n",
       "      <td>-1</td>\n",
       "      <td>1</td>\n",
       "      <td>2</td>\n",
       "      <td>0</td>\n",
       "    </tr>\n",
       "    <tr>\n",
       "      <th>3</th>\n",
       "      <td>-1</td>\n",
       "      <td>1</td>\n",
       "      <td>2</td>\n",
       "      <td>0</td>\n",
       "    </tr>\n",
       "    <tr>\n",
       "      <th>4</th>\n",
       "      <td>-1</td>\n",
       "      <td>-1</td>\n",
       "      <td>0</td>\n",
       "      <td>1</td>\n",
       "    </tr>\n",
       "    <tr>\n",
       "      <th>...</th>\n",
       "      <td>...</td>\n",
       "      <td>...</td>\n",
       "      <td>...</td>\n",
       "      <td>...</td>\n",
       "    </tr>\n",
       "    <tr>\n",
       "      <th>391</th>\n",
       "      <td>-1</td>\n",
       "      <td>1</td>\n",
       "      <td>2</td>\n",
       "      <td>0</td>\n",
       "    </tr>\n",
       "    <tr>\n",
       "      <th>392</th>\n",
       "      <td>-1</td>\n",
       "      <td>-1</td>\n",
       "      <td>0</td>\n",
       "      <td>1</td>\n",
       "    </tr>\n",
       "    <tr>\n",
       "      <th>393</th>\n",
       "      <td>-1</td>\n",
       "      <td>1</td>\n",
       "      <td>2</td>\n",
       "      <td>0</td>\n",
       "    </tr>\n",
       "    <tr>\n",
       "      <th>394</th>\n",
       "      <td>-1</td>\n",
       "      <td>-1</td>\n",
       "      <td>0</td>\n",
       "      <td>1</td>\n",
       "    </tr>\n",
       "    <tr>\n",
       "      <th>395</th>\n",
       "      <td>-1</td>\n",
       "      <td>-1</td>\n",
       "      <td>0</td>\n",
       "      <td>1</td>\n",
       "    </tr>\n",
       "  </tbody>\n",
       "</table>\n",
       "<p>396 rows × 4 columns</p>\n",
       "</div>"
      ],
      "text/plain": [
       "     PRED  UP_DOWN  OX  ACC\n",
       "0      -1       -1   0    1\n",
       "1      -1        1   2    0\n",
       "2      -1        1   2    0\n",
       "3      -1        1   2    0\n",
       "4      -1       -1   0    1\n",
       "..    ...      ...  ..  ...\n",
       "391    -1        1   2    0\n",
       "392    -1       -1   0    1\n",
       "393    -1        1   2    0\n",
       "394    -1       -1   0    1\n",
       "395    -1       -1   0    1\n",
       "\n",
       "[396 rows x 4 columns]"
      ]
     },
     "execution_count": 19,
     "metadata": {},
     "output_type": "execute_result"
    }
   ],
   "source": [
    "result = pd.DataFrame({'DNN' : model.predict(X_test).reshape(-1)})\n",
    "line = np.median(model.predict(X_test).reshape(-1))\n",
    "result['PRED'] = result['DNN'].apply(lambda x : 1 if x > line else -1)\n",
    "pred = result['PRED']\n",
    "test = test['UP_DOWN']\n",
    "test = test.reset_index()\n",
    "result = pd.concat([pred, test], axis=1)\n",
    "result = result[['PRED', 'UP_DOWN']]\n",
    "result['OX'] = result['UP_DOWN'] - result['PRED']\n",
    "result['ACC'] = result['OX'].apply(lambda x : 1 if x == 0 else 0)\n",
    "result"
   ]
  },
  {
   "cell_type": "code",
   "execution_count": 20,
   "metadata": {},
   "outputs": [
    {
     "name": "stdout",
     "output_type": "stream",
     "text": [
      "Test Accuracy = 51.52%\n"
     ]
    }
   ],
   "source": [
    "print('Test Accuracy = {:.2f}%' .format(100 * np.sum(result.ACC) / 396))"
   ]
  }
 ],
 "metadata": {
  "kernelspec": {
   "display_name": "Python 3",
   "language": "python",
   "name": "python3"
  },
  "language_info": {
   "codemirror_mode": {
    "name": "ipython",
    "version": 3
   },
   "file_extension": ".py",
   "mimetype": "text/x-python",
   "name": "python",
   "nbconvert_exporter": "python",
   "pygments_lexer": "ipython3",
   "version": "3.6.8"
  }
 },
 "nbformat": 4,
 "nbformat_minor": 4
}
