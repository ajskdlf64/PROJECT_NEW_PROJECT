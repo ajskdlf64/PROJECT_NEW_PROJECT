{
  "nbformat": 4,
  "nbformat_minor": 0,
  "metadata": {
    "colab": {
      "name": "Tensorflow 2.0",
      "provenance": [],
      "collapsed_sections": []
    },
    "kernelspec": {
      "name": "python3",
      "display_name": "Python 3"
    }
  },
  "cells": [
    {
      "cell_type": "markdown",
      "metadata": {
        "id": "SNp3oseq3k-S",
        "colab_type": "text"
      },
      "source": [
        "### 텐서플로우 2.0"
      ]
    },
    {
      "cell_type": "code",
      "metadata": {
        "id": "meyz41-pUsIu",
        "colab_type": "code",
        "colab": {}
      },
      "source": [
        "# Tensorflow 버전 변경\n",
        "try : \n",
        "  %tensorflow_version 2.x\n",
        "except Exception : \n",
        "  pass\n",
        "\n",
        "import tensorflow as tf"
      ],
      "execution_count": 0,
      "outputs": []
    },
    {
      "cell_type": "code",
      "metadata": {
        "id": "e-Wh7mVT3HPt",
        "colab_type": "code",
        "outputId": "6b017e0b-8bea-45ba-b7f5-71df09020e49",
        "colab": {
          "base_uri": "https://localhost:8080/",
          "height": 34
        }
      },
      "source": [
        "# 버전 확인\n",
        "import tensorflow as tf\n",
        "print(tf.__version__)"
      ],
      "execution_count": 46,
      "outputs": [
        {
          "output_type": "stream",
          "text": [
            "2.1.0\n"
          ],
          "name": "stdout"
        }
      ]
    },
    {
      "cell_type": "markdown",
      "metadata": {
        "id": "e58r5yhN3ZC3",
        "colab_type": "text"
      },
      "source": [
        "### 난수생성\n"
      ]
    },
    {
      "cell_type": "code",
      "metadata": {
        "id": "oBaF2PUO3deX",
        "colab_type": "code",
        "outputId": "9d5d1913-341c-4741-cb36-ce94dcc58a06",
        "colab": {
          "base_uri": "https://localhost:8080/",
          "height": 34
        }
      },
      "source": [
        "# 균등분포 난수 생성\n",
        "rand = tf.random.uniform([1], 0, 1)\n",
        "print(rand)"
      ],
      "execution_count": 47,
      "outputs": [
        {
          "output_type": "stream",
          "text": [
            "tf.Tensor([0.7289027], shape=(1,), dtype=float32)\n"
          ],
          "name": "stdout"
        }
      ]
    },
    {
      "cell_type": "code",
      "metadata": {
        "id": "mS_nDYz33dhR",
        "colab_type": "code",
        "colab": {
          "base_uri": "https://localhost:8080/",
          "height": 34
        },
        "outputId": "56b349bb-5d89-4709-aa3a-ad9cb57aa9c2"
      },
      "source": [
        "# 균등분포 난수 생성\n",
        "rand = tf.random.uniform([4], 0, 1)\n",
        "print(rand)"
      ],
      "execution_count": 48,
      "outputs": [
        {
          "output_type": "stream",
          "text": [
            "tf.Tensor([0.02099311 0.12969947 0.8165736  0.36137152], shape=(4,), dtype=float32)\n"
          ],
          "name": "stdout"
        }
      ]
    },
    {
      "cell_type": "code",
      "metadata": {
        "id": "-oZTqg7J3dkD",
        "colab_type": "code",
        "colab": {
          "base_uri": "https://localhost:8080/",
          "height": 34
        },
        "outputId": "0467379a-01ca-44ac-be24-6b08a40b8321"
      },
      "source": [
        "# 정규분포 난수 생성\n",
        "rand = tf.random.normal([4], 0, 1)\n",
        "print(rand)"
      ],
      "execution_count": 49,
      "outputs": [
        {
          "output_type": "stream",
          "text": [
            "tf.Tensor([ 0.06472187  0.3899432  -1.1655881  -1.7830234 ], shape=(4,), dtype=float32)\n"
          ],
          "name": "stdout"
        }
      ]
    },
    {
      "cell_type": "markdown",
      "metadata": {
        "id": "bu4j5yYk6YR9",
        "colab_type": "text"
      },
      "source": [
        "### 시그모이드 "
      ]
    },
    {
      "cell_type": "code",
      "metadata": {
        "id": "VtVPm1mJ3dm3",
        "colab_type": "code",
        "colab": {}
      },
      "source": [
        "# 시그모이드 함수를 정의\n",
        "import math\n",
        "def sigmoid(x) : \n",
        "  return 1 / (1 + math.exp(-x))"
      ],
      "execution_count": 0,
      "outputs": []
    },
    {
      "cell_type": "code",
      "metadata": {
        "id": "2ocLvf_Z6W7l",
        "colab_type": "code",
        "colab": {
          "base_uri": "https://localhost:8080/",
          "height": 34
        },
        "outputId": "d7a6e0c4-4020-45ec-9bf8-4e3f81c5be6e"
      },
      "source": [
        "# x=1과 랜덤으로 생성한 값인 w를 곱한 값을 시그모이드 함수에 집어 넣어 y=0과 에러를 비교\n",
        "x = 1\n",
        "y = 0\n",
        "w = tf.random.normal([1], 0, 1)\n",
        "output = sigmoid(x * w)\n",
        "print(output)"
      ],
      "execution_count": 51,
      "outputs": [
        {
          "output_type": "stream",
          "text": [
            "0.27648022707770203\n"
          ],
          "name": "stdout"
        }
      ]
    },
    {
      "cell_type": "markdown",
      "metadata": {
        "id": "itDKSfMI_O8H",
        "colab_type": "text"
      },
      "source": [
        "### 뉴런의 구조"
      ]
    },
    {
      "cell_type": "code",
      "metadata": {
        "id": "EJGdb-su6XEa",
        "colab_type": "code",
        "colab": {
          "base_uri": "https://localhost:8080/",
          "height": 187
        },
        "outputId": "1df0dbdf-a2f3-4395-e2f0-807cd0c1a6df"
      },
      "source": [
        "# 입력이 1, 출력이 0이되는 뉴런\n",
        "\n",
        "for i in range(1000) : \n",
        "\n",
        "  # 시그모이드를 이용하여 값 계산 \n",
        "  output = sigmoid(x * w)\n",
        "  # 실제값과의 오차 계산\n",
        "  error = y - output\n",
        "  # 실제값의 차이를 줄이는 방향으로 가중치(w) 조정\n",
        "  w = w + x * 0.1 * error\n",
        "  # 100번째마다 실행 결과 출력\n",
        "  if i % 100 == 99 : \n",
        "    print(i, error, output)"
      ],
      "execution_count": 52,
      "outputs": [
        {
          "output_type": "stream",
          "text": [
            "99 -0.08244032391155014 0.08244032391155014\n",
            "199 -0.046412888979094125 0.046412888979094125\n",
            "299 -0.03207213260854848 0.03207213260854848\n",
            "399 -0.024441650108094976 0.024441650108094976\n",
            "499 -0.019721875079338664 0.019721875079338664\n",
            "599 -0.016519769108710326 0.016519769108710326\n",
            "699 -0.014206970921128253 0.014206970921128253\n",
            "799 -0.012459283590211825 0.012459283590211825\n",
            "899 -0.01109265631030566 0.01109265631030566\n",
            "999 -0.00999503403744611 0.00999503403744611\n"
          ],
          "name": "stdout"
        }
      ]
    },
    {
      "cell_type": "code",
      "metadata": {
        "id": "OHewIRdv-1eC",
        "colab_type": "code",
        "colab": {
          "base_uri": "https://localhost:8080/",
          "height": 187
        },
        "outputId": "54f3d8eb-e43a-4254-adc9-b2f5f2285b5f"
      },
      "source": [
        "# 입력이 0, 출력이 1 이되는 뉴런\n",
        "x = 0\n",
        "y = 1\n",
        "w = tf.random.normal([1], 0, 1)\n",
        "\n",
        "for i in range(1000) : \n",
        "\n",
        "  # 시그모이드를 이용하여 값 계산 \n",
        "  output = sigmoid(x * w)\n",
        "  # 실제값과의 오차 계산\n",
        "  error = y - output\n",
        "  # 실제값의 차이를 줄이는 방향으로 가중치(w) 조정\n",
        "  w = w + x * 0.1 * error\n",
        "  # 100번째마다 실행 결과 출력\n",
        "  if i % 100 == 99 : \n",
        "    print(i, error, output)"
      ],
      "execution_count": 53,
      "outputs": [
        {
          "output_type": "stream",
          "text": [
            "99 0.5 0.5\n",
            "199 0.5 0.5\n",
            "299 0.5 0.5\n",
            "399 0.5 0.5\n",
            "499 0.5 0.5\n",
            "599 0.5 0.5\n",
            "699 0.5 0.5\n",
            "799 0.5 0.5\n",
            "899 0.5 0.5\n",
            "999 0.5 0.5\n"
          ],
          "name": "stdout"
        }
      ]
    },
    {
      "cell_type": "code",
      "metadata": {
        "id": "bR3jq8zm-_u0",
        "colab_type": "code",
        "colab": {}
      },
      "source": [
        "# x=0일 때  y=1을 얻는 뉴런의 학습에 편향을 더함\n",
        "x = 0\n",
        "y = 1\n",
        "w = tf.random.normal([1], 0, 1)\n",
        "b = tf.random.normal([1], 0, 1)\n",
        "\n",
        "for i in range(1000) : \n",
        "  output = sigmoid(x * w + 1 + b)\n",
        "  error = y - output\n",
        "  w = w + x  *"
      ],
      "execution_count": 0,
      "outputs": []
    },
    {
      "cell_type": "code",
      "metadata": {
        "id": "M1dqBAE8-_xW",
        "colab_type": "code",
        "colab": {}
      },
      "source": [
        ""
      ],
      "execution_count": 0,
      "outputs": []
    },
    {
      "cell_type": "code",
      "metadata": {
        "id": "PV8lCiaN-_zk",
        "colab_type": "code",
        "colab": {}
      },
      "source": [
        ""
      ],
      "execution_count": 0,
      "outputs": []
    },
    {
      "cell_type": "code",
      "metadata": {
        "id": "5aJOQ_zb-_18",
        "colab_type": "code",
        "colab": {}
      },
      "source": [
        ""
      ],
      "execution_count": 0,
      "outputs": []
    },
    {
      "cell_type": "code",
      "metadata": {
        "id": "oxakHEpW-_4V",
        "colab_type": "code",
        "colab": {}
      },
      "source": [
        ""
      ],
      "execution_count": 0,
      "outputs": []
    }
  ]
}