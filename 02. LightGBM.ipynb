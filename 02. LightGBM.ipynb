{
 "cells": [
  {
   "cell_type": "markdown",
   "metadata": {},
   "source": [
    "**1. 경고 메세지 숨기기**"
   ]
  },
  {
   "cell_type": "code",
   "execution_count": 1,
   "metadata": {},
   "outputs": [],
   "source": [
    "import warnings\n",
    "warnings.filterwarnings(action='ignore') "
   ]
  },
  {
   "cell_type": "markdown",
   "metadata": {},
   "source": [
    "**2. 데이터 불러오기**"
   ]
  },
  {
   "cell_type": "code",
   "execution_count": 2,
   "metadata": {},
   "outputs": [],
   "source": [
    "import pandas as pd \n",
    "origin_2017 = pd.read_csv('./data/stock_origin_2017.csv')\n",
    "origin_2018 = pd.read_csv('./data/stock_origin_2018.csv')\n",
    "origin_2019 = pd.read_csv('./data/stock_origin_2019.csv')\n",
    "new_2017 = pd.read_csv('./data/stock_new_2017.csv')\n",
    "new_2018 = pd.read_csv('./data/stock_new_2018.csv')\n",
    "new_2019 = pd.read_csv('./data/stock_new_2019.csv')"
   ]
  },
  {
   "cell_type": "markdown",
   "metadata": {},
   "source": [
    "**3. 불필요한 열 제거**"
   ]
  },
  {
   "cell_type": "code",
   "execution_count": 3,
   "metadata": {},
   "outputs": [],
   "source": [
    "origin_2017 = origin_2017.iloc[:,2:]\n",
    "origin_2018 = origin_2018.iloc[:,2:]\n",
    "origin_2019 = origin_2019.iloc[:,2:]\n",
    "new_2017 = new_2017.iloc[:,2:]\n",
    "new_2018 = new_2018.iloc[:,2:]\n",
    "new_2019 = new_2019.iloc[:,2:]"
   ]
  },
  {
   "cell_type": "markdown",
   "metadata": {},
   "source": [
    "**4. 각각의 데이터셋의 크기**"
   ]
  },
  {
   "cell_type": "code",
   "execution_count": 4,
   "metadata": {},
   "outputs": [
    {
     "name": "stdout",
     "output_type": "stream",
     "text": [
      "origin_2017's size is 587,165 obs\n",
      "origin_2018's size is 643,886 obs\n",
      "origin_2019's size is 702,204 obs\n",
      "\n",
      "new_2017's size is 587,165 obs\n",
      "new_2018's size is 643,886 obs\n",
      "new_2019's size is 702,204 obs\n"
     ]
    }
   ],
   "source": [
    "print('{}\\'s size is {:,} obs' .format('origin_2017', len(origin_2017)))\n",
    "print('{}\\'s size is {:,} obs' .format('origin_2018', len(origin_2018)))\n",
    "print('{}\\'s size is {:,} obs' .format('origin_2019', len(origin_2019)), end='\\n\\n')\n",
    "print('{}\\'s size is {:,} obs' .format('new_2017', len(new_2017)))\n",
    "print('{}\\'s size is {:,} obs' .format('new_2018', len(new_2018)))\n",
    "print('{}\\'s size is {:,} obs' .format('new_2019', len(new_2019)))"
   ]
  },
  {
   "cell_type": "markdown",
   "metadata": {},
   "source": [
    "**5. Origin과 New Merge하기**"
   ]
  },
  {
   "cell_type": "code",
   "execution_count": 5,
   "metadata": {},
   "outputs": [],
   "source": [
    "data_2017 = pd.merge(origin_2017, new_2017).set_index('date')\n",
    "data_2018 = pd.merge(origin_2018, new_2018).set_index('date')\n",
    "data_2019 = pd.merge(origin_2019, new_2019).set_index('date')"
   ]
  },
  {
   "cell_type": "markdown",
   "metadata": {},
   "source": [
    "**6. 거래 정지 종목 제거**"
   ]
  },
  {
   "cell_type": "code",
   "execution_count": 6,
   "metadata": {},
   "outputs": [],
   "source": [
    "data_2017 = data_2017[data_2017['trading_volume'] != 0]\n",
    "data_2018 = data_2018[data_2018['trading_volume'] != 0]\n",
    "data_2019 = data_2019[data_2019['trading_volume'] != 0]"
   ]
  },
  {
   "cell_type": "markdown",
   "metadata": {},
   "source": [
    "**7. Test 종목**"
   ]
  },
  {
   "cell_type": "code",
   "execution_count": 7,
   "metadata": {},
   "outputs": [],
   "source": [
    "test_code = '000660'"
   ]
  },
  {
   "cell_type": "markdown",
   "metadata": {},
   "source": [
    "**8. 학습, 테스트셋 생성**"
   ]
  },
  {
   "cell_type": "code",
   "execution_count": 8,
   "metadata": {},
   "outputs": [],
   "source": [
    "data = pd.concat([data_2017[data_2017['code']==test_code],data_2018[data_2018['code']==test_code],\n",
    "                  data_2019[data_2019['code']==test_code]])"
   ]
  },
  {
   "cell_type": "code",
   "execution_count": 9,
   "metadata": {},
   "outputs": [],
   "source": [
    "train = data['2017-01-01':'2018-12-31']\n",
    "test = data['2019-01-01':]"
   ]
  },
  {
   "cell_type": "markdown",
   "metadata": {},
   "source": [
    "**9. DATA 쉬프트**"
   ]
  },
  {
   "cell_type": "code",
   "execution_count": 10,
   "metadata": {},
   "outputs": [],
   "source": [
    "train['Target'] = train['close'].shift(-1)\n",
    "test['Target'] = test['close'].shift(-1)"
   ]
  },
  {
   "cell_type": "code",
   "execution_count": 11,
   "metadata": {},
   "outputs": [],
   "source": [
    "train = train.dropna()\n",
    "test = test.dropna()"
   ]
  },
  {
   "cell_type": "markdown",
   "metadata": {},
   "source": [
    "**10. 종속변수, 독립변수 지정**"
   ]
  },
  {
   "cell_type": "code",
   "execution_count": 12,
   "metadata": {},
   "outputs": [],
   "source": [
    "X_train = train[['open','high','low','trading_volume','trading_value','kindex','index','score','probability']]\n",
    "y_train = train[['Target']]\n",
    "X_test = test[['open','high','low','trading_volume','trading_value','kindex','index','score','probability']]\n",
    "y_test = test[['Target']]"
   ]
  },
  {
   "cell_type": "markdown",
   "metadata": {},
   "source": [
    "**11. LightGBM**"
   ]
  },
  {
   "cell_type": "code",
   "execution_count": 15,
   "metadata": {},
   "outputs": [],
   "source": [
    "import lightgbm as lgb\n",
    "train_ds = lgb.Dataset(X_train, label = y_train) \n",
    "test_ds = lgb.Dataset(X_test, label = y_test) "
   ]
  },
  {
   "cell_type": "code",
   "execution_count": 16,
   "metadata": {},
   "outputs": [],
   "source": [
    "params = {'learning_rate': 0.1, \n",
    "          'max_depth': 5, \n",
    "          'boosting': 'gbdt', \n",
    "          'objective': 'regression', \n",
    "          'metric': 'mse', \n",
    "          'is_training_metric': True, \n",
    "          'num_leaves': 144, \n",
    "          'feature_fraction': 0.9, \n",
    "          'bagging_fraction': 0.7, \n",
    "          'bagging_freq': 5, \n",
    "          'seed':2020}"
   ]
  },
  {
   "cell_type": "code",
   "execution_count": 17,
   "metadata": {},
   "outputs": [
    {
     "name": "stdout",
     "output_type": "stream",
     "text": [
      "Training until validation scores don't improve for 100 rounds\n",
      "[100]\tvalid_0's l2: 4.50836e+06\n",
      "Early stopping, best iteration is:\n",
      "[49]\tvalid_0's l2: 4.32385e+06\n"
     ]
    }
   ],
   "source": [
    "model = lgb.train(params, train_ds, 1000, test_ds, verbose_eval=100, early_stopping_rounds=100)"
   ]
  },
  {
   "cell_type": "markdown",
   "metadata": {},
   "source": [
    "**12. RMSE**"
   ]
  },
  {
   "cell_type": "code",
   "execution_count": 18,
   "metadata": {
    "scrolled": false
   },
   "outputs": [
    {
     "name": "stdout",
     "output_type": "stream",
     "text": [
      "000660's rmse is 2079.39\n"
     ]
    }
   ],
   "source": [
    "from sklearn.metrics import mean_squared_error\n",
    "y_true = y_test\n",
    "y_pred = model.predict(X_test)\n",
    "rmse = mean_squared_error(y_true, y_pred)**0.5\n",
    "print(\"{}'s rmse is {:.2f}\" .format(test_code,rmse))"
   ]
  },
  {
   "cell_type": "markdown",
   "metadata": {},
   "source": [
    "**14. Visualization**"
   ]
  },
  {
   "cell_type": "code",
   "execution_count": 19,
   "metadata": {},
   "outputs": [],
   "source": [
    "y_pred = pd.DataFrame({'y_pred':y_pred.reshape(-1)}, index=test.index)\n",
    "result = pd.concat([y_pred, y_test], axis=1)"
   ]
  },
  {
   "cell_type": "code",
   "execution_count": 20,
   "metadata": {},
   "outputs": [
    {
     "data": {
      "text/plain": [
       "<Figure size 1800x600 with 1 Axes>"
      ]
     },
     "metadata": {},
     "output_type": "display_data"
    }
   ],
   "source": [
    "import matplotlib.pyplot as plt\n",
    "import seaborn as sns\n",
    "plt.figure(figsize=(18,6))\n",
    "ax = sns.lineplot(data=result, palette=\"tab10\", linewidth=2.5)\n",
    "ax.set(xticks = result.index[0::30])\n",
    "plt.show()"
   ]
  },
  {
   "cell_type": "markdown",
   "metadata": {},
   "source": [
    "**15. UP and Down**"
   ]
  },
  {
   "cell_type": "code",
   "execution_count": 21,
   "metadata": {},
   "outputs": [
    {
     "data": {
      "text/html": [
       "<div>\n",
       "<style scoped>\n",
       "    .dataframe tbody tr th:only-of-type {\n",
       "        vertical-align: middle;\n",
       "    }\n",
       "\n",
       "    .dataframe tbody tr th {\n",
       "        vertical-align: top;\n",
       "    }\n",
       "\n",
       "    .dataframe thead th {\n",
       "        text-align: right;\n",
       "    }\n",
       "</style>\n",
       "<table border=\"1\" class=\"dataframe\">\n",
       "  <thead>\n",
       "    <tr style=\"text-align: right;\">\n",
       "      <th></th>\n",
       "      <th>y_pred</th>\n",
       "      <th>Target</th>\n",
       "      <th>TRUE_UP_DOWN</th>\n",
       "      <th>PRED_UP_DOWN</th>\n",
       "      <th>OX</th>\n",
       "    </tr>\n",
       "    <tr>\n",
       "      <th>date</th>\n",
       "      <th></th>\n",
       "      <th></th>\n",
       "      <th></th>\n",
       "      <th></th>\n",
       "      <th></th>\n",
       "    </tr>\n",
       "  </thead>\n",
       "  <tbody>\n",
       "    <tr>\n",
       "      <th>2019-01-02</th>\n",
       "      <td>61591.459318</td>\n",
       "      <td>57700.0</td>\n",
       "      <td>1</td>\n",
       "      <td>1</td>\n",
       "      <td>1</td>\n",
       "    </tr>\n",
       "    <tr>\n",
       "      <th>2019-01-03</th>\n",
       "      <td>60726.446666</td>\n",
       "      <td>58300.0</td>\n",
       "      <td>1</td>\n",
       "      <td>-1</td>\n",
       "      <td>-1</td>\n",
       "    </tr>\n",
       "    <tr>\n",
       "      <th>2019-01-04</th>\n",
       "      <td>56998.777325</td>\n",
       "      <td>58700.0</td>\n",
       "      <td>1</td>\n",
       "      <td>1</td>\n",
       "      <td>1</td>\n",
       "    </tr>\n",
       "    <tr>\n",
       "      <th>2019-01-07</th>\n",
       "      <td>59215.636972</td>\n",
       "      <td>59200.0</td>\n",
       "      <td>1</td>\n",
       "      <td>-1</td>\n",
       "      <td>-1</td>\n",
       "    </tr>\n",
       "    <tr>\n",
       "      <th>2019-01-08</th>\n",
       "      <td>59154.071021</td>\n",
       "      <td>63600.0</td>\n",
       "      <td>1</td>\n",
       "      <td>-1</td>\n",
       "      <td>-1</td>\n",
       "    </tr>\n",
       "    <tr>\n",
       "      <th>...</th>\n",
       "      <td>...</td>\n",
       "      <td>...</td>\n",
       "      <td>...</td>\n",
       "      <td>...</td>\n",
       "      <td>...</td>\n",
       "    </tr>\n",
       "    <tr>\n",
       "      <th>2019-12-20</th>\n",
       "      <td>91609.861765</td>\n",
       "      <td>94600.0</td>\n",
       "      <td>-1</td>\n",
       "      <td>-1</td>\n",
       "      <td>1</td>\n",
       "    </tr>\n",
       "    <tr>\n",
       "      <th>2019-12-23</th>\n",
       "      <td>90731.763598</td>\n",
       "      <td>93800.0</td>\n",
       "      <td>1</td>\n",
       "      <td>-1</td>\n",
       "      <td>-1</td>\n",
       "    </tr>\n",
       "    <tr>\n",
       "      <th>2019-12-24</th>\n",
       "      <td>90731.763598</td>\n",
       "      <td>94800.0</td>\n",
       "      <td>1</td>\n",
       "      <td>-1</td>\n",
       "      <td>-1</td>\n",
       "    </tr>\n",
       "    <tr>\n",
       "      <th>2019-12-26</th>\n",
       "      <td>90731.763598</td>\n",
       "      <td>96000.0</td>\n",
       "      <td>-1</td>\n",
       "      <td>-1</td>\n",
       "      <td>1</td>\n",
       "    </tr>\n",
       "    <tr>\n",
       "      <th>2019-12-27</th>\n",
       "      <td>89257.445093</td>\n",
       "      <td>94100.0</td>\n",
       "      <td>-1</td>\n",
       "      <td>-1</td>\n",
       "      <td>1</td>\n",
       "    </tr>\n",
       "  </tbody>\n",
       "</table>\n",
       "<p>245 rows × 5 columns</p>\n",
       "</div>"
      ],
      "text/plain": [
       "                  y_pred   Target  TRUE_UP_DOWN  PRED_UP_DOWN  OX\n",
       "date                                                             \n",
       "2019-01-02  61591.459318  57700.0             1             1   1\n",
       "2019-01-03  60726.446666  58300.0             1            -1  -1\n",
       "2019-01-04  56998.777325  58700.0             1             1   1\n",
       "2019-01-07  59215.636972  59200.0             1            -1  -1\n",
       "2019-01-08  59154.071021  63600.0             1            -1  -1\n",
       "...                  ...      ...           ...           ...  ..\n",
       "2019-12-20  91609.861765  94600.0            -1            -1   1\n",
       "2019-12-23  90731.763598  93800.0             1            -1  -1\n",
       "2019-12-24  90731.763598  94800.0             1            -1  -1\n",
       "2019-12-26  90731.763598  96000.0            -1            -1   1\n",
       "2019-12-27  89257.445093  94100.0            -1            -1   1\n",
       "\n",
       "[245 rows x 5 columns]"
      ]
     },
     "execution_count": 21,
     "metadata": {},
     "output_type": "execute_result"
    }
   ],
   "source": [
    "# Actual\n",
    "result['Traget_shift'] = result['Target'].shift(-1)\n",
    "result['TRUE_UP_DOWN'] = result['Traget_shift'] - result['Target']\n",
    "result['TRUE_UP_DOWN'] = result['TRUE_UP_DOWN'].apply(lambda x : 1 if x > 0 else -1)\n",
    "\n",
    "# Pred\n",
    "result['Pred_shift'] = result['y_pred'].shift(-1)\n",
    "result['PRED_UP_DOWN'] = result['Pred_shift'] - result['Target']\n",
    "result['PRED_UP_DOWN'] = result['PRED_UP_DOWN'].apply(lambda x : 1 if x > 0 else -1)\n",
    "\n",
    "# O,X\n",
    "result['OX'] = result['TRUE_UP_DOWN'] - result['PRED_UP_DOWN']\n",
    "result['OX'] = result['OX'].apply(lambda x : 1 if x == 0 else -1)\n",
    "\n",
    "# Result\n",
    "result[['y_pred', 'Target', 'TRUE_UP_DOWN', 'PRED_UP_DOWN', 'OX']]"
   ]
  },
  {
   "cell_type": "markdown",
   "metadata": {},
   "source": [
    "**16. UP and Down Visualization**"
   ]
  },
  {
   "cell_type": "code",
   "execution_count": 22,
   "metadata": {
    "scrolled": true
   },
   "outputs": [
    {
     "data": {
      "image/png": "[encoded data removed]",
      "text/plain": [
       "<Figure size 1296x432 with 1 Axes>"
      ]
     },
     "metadata": {
      "needs_background": "light"
     },
     "output_type": "display_data"
    }
   ],
   "source": [
    "plt.figure(figsize=(18,6))\n",
    "sns.barplot(x=result.index, y=result['OX'], palette=\"vlag\")\n",
    "plt.show()"
   ]
  },
  {
   "cell_type": "markdown",
   "metadata": {},
   "source": [
    "**17. Confusuion Matrix**"
   ]
  },
  {
   "cell_type": "code",
   "execution_count": 23,
   "metadata": {},
   "outputs": [
    {
     "name": "stdout",
     "output_type": "stream",
     "text": [
      "=== Confusion Matrix ===\n",
      "[[68 50]\n",
      " [66 61]]\n",
      "Test Acc = 0.5265\n",
      "Test Adj Acc = 0.0082\n"
     ]
    }
   ],
   "source": [
    "from sklearn.metrics import confusion_matrix\n",
    "print('=== Confusion Matrix ===')\n",
    "cf = confusion_matrix(result['TRUE_UP_DOWN'], result['PRED_UP_DOWN'])\n",
    "print(cf)\n",
    "print('Test Acc = {:.4f}' .format((cf[0,0] + cf[1,1]) / (cf[0,0] + cf[0,1] + cf[1,0] + cf[1,1])))\n",
    "print('Test Adj Acc = {:.4f}' .format(((cf[0,0]+cf[1,1])-(cf[1,0]+cf[1,1]))/(cf[0,0]+cf[0,1]+cf[1,0]+cf[1,1])))"
   ]
  }
 ],
 "metadata": {
  "kernelspec": {
   "display_name": "Python 3",
   "language": "python",
   "name": "python3"
  },
  "language_info": {
   "codemirror_mode": {
    "name": "ipython",
    "version": 3
   },
   "file_extension": ".py",
   "mimetype": "text/x-python",
   "name": "python",
   "nbconvert_exporter": "python",
   "pygments_lexer": "ipython3",
   "version": "3.7.3"
  }
 },
 "nbformat": 4,
 "nbformat_minor": 4
}
