{
 "cells": [
  {
   "cell_type": "markdown",
   "metadata": {},
   "source": [
    "# Trade Tracking Simulation\n",
    "\n",
    " -  Time Point : 1 minute"
   ]
  },
  {
   "cell_type": "markdown",
   "metadata": {},
   "source": [
    "#### 01. 매도 조건\n",
    "\n",
    " 1. 목표 수익률 (7%) 달성시 매도 ***(구현 완료)***\n",
    " \n",
    " \n",
    " 2. 손절 요건 미충족시 그날 15:20 종가로 매매 ***(구현 완료)***"
   ]
  },
  {
   "cell_type": "markdown",
   "metadata": {},
   "source": [
    "#### 02. 손절 조건 (아래 요건 중 1개만 달성해도 매도)\n",
    "\n",
    " 1. 매입가대비 5% 이상 하락한 경우 ***(구현 완료)***\n",
    "\n",
    "\n",
    " 2. 직전 Time Point 기준 종가가 2% 이상 하락 현상이 나타난 경우 ***(구현 완료)***\n",
    "  \n",
    " \n",
    " 3. 매입가 대비 15:00 의 종가가 오차범위(-0.5 ~ 0.5%) 이내일 때 조기 매도 ***(구현 완료)*** "
   ]
  },
  {
   "cell_type": "markdown",
   "metadata": {},
   "source": [
    "#### 03. 종목 셋팅"
   ]
  },
  {
   "cell_type": "code",
   "execution_count": 1,
   "metadata": {},
   "outputs": [],
   "source": [
    "date = '20200323' "
   ]
  },
  {
   "cell_type": "code",
   "execution_count": 2,
   "metadata": {},
   "outputs": [],
   "source": [
    "code = '141020'"
   ]
  },
  {
   "cell_type": "markdown",
   "metadata": {},
   "source": [
    "#### 04. 시뮬레이션"
   ]
  },
  {
   "cell_type": "code",
   "execution_count": 10,
   "metadata": {},
   "outputs": [
    {
     "ename": "ImportError",
     "evalue": "No module named request",
     "output_type": "error",
     "traceback": [
      "\u001b[0;31m---------------------------------------------------------------------------\u001b[0m",
      "\u001b[0;31mImportError\u001b[0m                               Traceback (most recent call last)",
      "\u001b[0;32m<ipython-input-10-32edcd55e1d1>\u001b[0m in \u001b[0;36m<module>\u001b[0;34m()\u001b[0m\n\u001b[1;32m     14\u001b[0m \u001b[0;34m\u001b[0m\u001b[0m\n\u001b[1;32m     15\u001b[0m \u001b[0;31m# url open\u001b[0m\u001b[0;34m\u001b[0m\u001b[0;34m\u001b[0m\u001b[0;34m\u001b[0m\u001b[0m\n\u001b[0;32m---> 16\u001b[0;31m \u001b[0;32mfrom\u001b[0m \u001b[0murllib\u001b[0m\u001b[0;34m.\u001b[0m\u001b[0mrequest\u001b[0m \u001b[0;32mimport\u001b[0m \u001b[0murlopen\u001b[0m\u001b[0;34m\u001b[0m\u001b[0;34m\u001b[0m\u001b[0m\n\u001b[0m\u001b[1;32m     17\u001b[0m \u001b[0murl_page\u001b[0m \u001b[0;34m=\u001b[0m \u001b[0murlopen\u001b[0m\u001b[0;34m(\u001b[0m\u001b[0murl\u001b[0m\u001b[0;34m)\u001b[0m\u001b[0;34m\u001b[0m\u001b[0;34m\u001b[0m\u001b[0m\n\u001b[1;32m     18\u001b[0m \u001b[0;34m\u001b[0m\u001b[0m\n",
      "\u001b[0;31mImportError\u001b[0m: No module named request"
     ]
    }
   ],
   "source": [
    "# 경고 무시\n",
    "import warnings\n",
    "warnings.filterwarnings(action='ignore') \n",
    "\n",
    "# Hyper Parameter\n",
    "tr_name = 'TR_SCHART'\n",
    "term = '1'\n",
    "start_date = date\n",
    "end_date = date\n",
    "Lookup = '9999' \n",
    "        \n",
    "# url\n",
    "url = 'http://ssecd.roboadvisor.co.kr:9999/' + tr_name + '?0=' + code + '&1=' + term + '&2=5' +\\\n",
    "      '&3=' + start_date + '&4=' + end_date + '&5=' + Lookup\n",
    "\n",
    "# url open\n",
    "from urllib.request import urlopen\n",
    "url_page = urlopen(url)\n",
    "\n",
    "url"
   ]
  },
  {
   "cell_type": "code",
   "execution_count": 3,
   "metadata": {},
   "outputs": [
    {
     "ename": "SyntaxError",
     "evalue": "invalid syntax (<ipython-input-3-be87b2d1d653>, line 57)",
     "output_type": "error",
     "traceback": [
      "\u001b[0;36m  File \u001b[0;32m\"<ipython-input-3-be87b2d1d653>\"\u001b[0;36m, line \u001b[0;32m57\u001b[0m\n\u001b[0;31m    print('시가에 매수 --->', end='\\t')\u001b[0m\n\u001b[0m                                  \n^\u001b[0m\n\u001b[0;31mSyntaxError\u001b[0m\u001b[0;31m:\u001b[0m invalid syntax\n"
     ]
    }
   ],
   "source": [
    "# 경고 무시\n",
    "import warnings\n",
    "warnings.filterwarnings(action='ignore') \n",
    "\n",
    "# Hyper Parameter\n",
    "tr_name = 'TR_SCHART'\n",
    "term = '1'\n",
    "start_date = date\n",
    "end_date = date\n",
    "Lookup = '9999' \n",
    "        \n",
    "# url\n",
    "url = 'http://ssecd.roboadvisor.co.kr:9999/' + tr_name + '?0=' + code + '&1=' + term + '&2=5' +\\\n",
    "      '&3=' + start_date + '&4=' + end_date + '&5=' + Lookup\n",
    "\n",
    "# url open\n",
    "from urllib.request import urlopen\n",
    "url_page = urlopen(url)\n",
    "\n",
    "# json 파일로 받아오기\n",
    "import json\n",
    "url_data = json.loads(url_page.read())\n",
    "\n",
    "# json을 데이터프레임으로 바꾸기\n",
    "import pandas as pd\n",
    "data = pd.DataFrame(url_data)\n",
    "    \n",
    "# Data Column명 변경\n",
    "data.columns = ['date','time','open','high','low','close','price_ccr','volume_ccr',\n",
    "                'rock','volume','volume_price']\n",
    "data = data[['date', 'time', 'open', 'high', 'low', 'close', 'volume', 'volume_price']]\n",
    "    \n",
    "# 순서 뒤집기\n",
    "data = data[::-1]\n",
    "data['date_time'] = data['date'] + '_' + data['time']\n",
    "data = data.set_index('date_time')\n",
    "    \n",
    "# 필요한 변수만 추출\n",
    "data = data[['open', 'high', 'low', 'close', 'volume']]\n",
    "\n",
    "# 변수 속성 정수로 바꾸기\n",
    "for column in data.columns : \n",
    "    data[column] = data[column].apply(lambda x : int(x))\n",
    "\n",
    "# 진행상태 표시\n",
    "data['state'] = ''\n",
    "\n",
    "# Simulation\n",
    "simulation_df = pd.DataFrame()\n",
    "\n",
    "for idx in data.index : \n",
    "        \n",
    "    # 시가에 매수\n",
    "    if idx == date + '_0905' : \n",
    "        temp = data.loc[idx]\n",
    "        temp['state'] = '매수'\n",
    "        simulation_df = simulation_df.append(temp)\n",
    "        print('시가에 매수 --->', end='\\t')\n",
    "        continue\n",
    "            \n",
    "    # 목표 가격 (7% 수익) 도달시 매도\n",
    "    if data.loc[idx]['high'] > 1.07 * simulation_df.loc[date + '_0905']['open'] : \n",
    "        temp = data.loc[idx]\n",
    "        temp['state'] = '매도'\n",
    "        simulation_df = simulation_df.append(temp)\n",
    "        print('목표가격에 도달하여 종가로 매도 --- >', end='\\t')\n",
    "        break\n",
    "        \n",
    "    # 매입가 대비 3% 이상 손해가 난 경우 손절\n",
    "    temp = data.loc[idx]\n",
    "    if temp['close'] < 0.97 * simulation_df.loc[date + '_0905']['open'] :\n",
    "        temp['state'] = '매도'\n",
    "        simulation_df = simulation_df.append(temp)\n",
    "        print(\"매입가 대비 3% 이상 손해가 나서 일괄 매도 --->\" ,end='\\t')\n",
    "        break\n",
    "    \n",
    "    # 이전 check 단계 대비 종가가 2% 이상 하락 현상이 나타난 경우\n",
    "    if int(data.loc[idx]['close']) <= 0.98 * int(simulation_df[-1:][['close']].values[0][0]) : \n",
    "        temp = data.loc[idx]\n",
    "        temp['state'] = '매도'\n",
    "        simulation_df = simulation_df.append(temp)\n",
    "        print(\"직전 time point 대비 종가가 2% 하락하여 일괄 매도 --->\" ,end='\\t')\n",
    "        break\n",
    "    \n",
    "    # 15:00의 종가가 매입가와 오차범위(-0.5 ~ 0.5%) 이내일 때\n",
    "    if idx == date + '_1500' : \n",
    "        temp = data.loc[idx]\n",
    "        if temp['high'] - simulation_df.loc[date + '_0905']['open'] <\\\n",
    "                                          0.005 * simulation_df.loc[date + '_0905']['open']  :\n",
    "            temp['state'] = '매도'\n",
    "            simulation_df = simulation_df.append(temp)\n",
    "            print(\"15:00 까지 매입가 대비 움직임이 없어서 일괄 매도 --->\", end='\\t')\n",
    "            break\n",
    "        else : \n",
    "            temp['state'] = '보유'\n",
    "            simulation_df = simulation_df.append(temp)\n",
    "    \n",
    "    # 15:20 종가로 일괄 매도\n",
    "    if idx == date + '_1520' : \n",
    "        temp = data.loc[idx]\n",
    "        temp['state'] = '매도'\n",
    "        simulation_df = simulation_df.append(temp)\n",
    "        print('15:20 도달하여 종가로 일괄 매도 --->', end='\\t')\n",
    "        break\n",
    "    \n",
    "    # 손절 요건이 충족되지 않을 경우 계속 보유\n",
    "    temp = data.loc[idx]\n",
    "    temp['state'] = '보유'\n",
    "    simulation_df = simulation_df.append(temp)\n",
    "    \n",
    "# 시뮬레이션 종료\n",
    "print('시뮬레이션 종료!')\n",
    "    \n",
    "# 피쳐 순서\n",
    "simulation_df = simulation_df[['open', 'high', 'low', 'close', 'volume', 'state']]"
   ]
  },
  {
   "cell_type": "markdown",
   "metadata": {},
   "source": [
    "#### 05. 시뮬레이션 결과"
   ]
  },
  {
   "cell_type": "code",
   "execution_count": null,
   "metadata": {},
   "outputs": [],
   "source": [
    "simulation_df"
   ]
  },
  {
   "cell_type": "markdown",
   "metadata": {},
   "source": [
    "#### 06. 수익률"
   ]
  },
  {
   "cell_type": "code",
   "execution_count": null,
   "metadata": {
    "scrolled": false
   },
   "outputs": [],
   "source": [
    "buy = simulation_df.loc[date + '_0905']['open']\n",
    "cell = int(simulation_df[-1:]['high'])\n",
    "rate = (100 * (cell - buy)) / buy\n",
    "print('종목 코드 : {},     매수가 : {},     매도가 : {},     수익률 : {:.2f}%' .format(code, buy, cell, rate))"
   ]
  }
 ],
 "metadata": {
  "kernelspec": {
   "display_name": "Python 2",
   "language": "python",
   "name": "python2"
  },
  "language_info": {
   "codemirror_mode": {
    "name": "ipython",
    "version": 2
   },
   "file_extension": ".py",
   "mimetype": "text/x-python",
   "name": "python",
   "nbconvert_exporter": "python",
   "pygments_lexer": "ipython2",
   "version": "2.7.15+"
  }
 },
 "nbformat": 4,
 "nbformat_minor": 2
}
