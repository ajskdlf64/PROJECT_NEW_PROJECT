{
 "cells": [
  {
   "cell_type": "markdown",
   "metadata": {},
   "source": [
    "# Trade Tracking Simulation\n",
    "\n",
    " - 10분에 한번씩 거래 check"
   ]
  },
  {
   "cell_type": "markdown",
   "metadata": {},
   "source": [
    "#### 01. 매도 조건\n",
    "\n",
    " 1. 예측 고가 도달시 or 목표 비율이 있을 시 그 때 도달시 ***(구현 완료)***\n",
    " \n",
    " \n",
    " 2. 손절 요건 미충족시 그날 15:20 종가로 매매 ***(구현 완료)***"
   ]
  },
  {
   "cell_type": "markdown",
   "metadata": {},
   "source": [
    "#### 02. 손절 조건 (아래 요건 중 1개만 달성해도 매도)\n",
    "\n",
    " 1. 매수가격(시가)를 '0'으로 놓고 예측가격을 '1'로 놓았을 때 1시간(6 check point 동안 0.3을 단 한번도 못넘었을 때\n",
    " \n",
    " \n",
    " 2. 1시간(6 check point) 동안 하락이 지속될 시\n",
    " \n",
    " \n",
    " 3. 매입가 대비 15:00 의 종가가 오차범위(-1 ~ 1%) 이내일 때 조기 매도 ***(구현 완료)***\n",
    " \n",
    " \n",
    " 4. 이전 check 단계 대비 종가가 2% 이상 하락 현상이 나타난 경우 ***(구현 완료)***"
   ]
  },
  {
   "cell_type": "markdown",
   "metadata": {},
   "source": [
    "#### 03. 종목 셋팅"
   ]
  },
  {
   "cell_type": "code",
   "execution_count": 1,
   "metadata": {},
   "outputs": [],
   "source": [
    "date = '20200318' "
   ]
  },
  {
   "cell_type": "code",
   "execution_count": 2,
   "metadata": {},
   "outputs": [],
   "source": [
    "code = '043260'"
   ]
  },
  {
   "cell_type": "code",
   "execution_count": 3,
   "metadata": {},
   "outputs": [],
   "source": [
    "pred = 528"
   ]
  },
  {
   "cell_type": "code",
   "execution_count": 4,
   "metadata": {},
   "outputs": [],
   "source": [
    "# 보통 0.85 ~ 1.00 사이 값을 지정하세요.\n",
    "goal_rate = 0.85"
   ]
  },
  {
   "cell_type": "markdown",
   "metadata": {},
   "source": [
    "#### 04. 시뮬레이션"
   ]
  },
  {
   "cell_type": "code",
   "execution_count": 5,
   "metadata": {
    "scrolled": false
   },
   "outputs": [
    {
     "name": "stdout",
     "output_type": "stream",
     "text": [
      "시가에 매수 --->\t직전 time point 대비 종가가 3% 하락하여 일괄 매도 --->\t시뮬레이션 종료\n"
     ]
    }
   ],
   "source": [
    "# 경고 무시\n",
    "import warnings\n",
    "warnings.filterwarnings(action='ignore') \n",
    "\n",
    "# Hyper Parameter\n",
    "tr_name = 'TR_SCHART'\n",
    "term = '1'\n",
    "start_date = date\n",
    "end_date = date\n",
    "Lookup = '9999' \n",
    "        \n",
    "# url\n",
    "url = 'http://ssecd.roboadvisor.co.kr:9999/' + tr_name + '?0=' + code + '&1=' + term + '&2=10' +\\\n",
    "      '&3=' + start_date + '&4=' + end_date + '&5=' + Lookup\n",
    "\n",
    "# url open\n",
    "from urllib.request import urlopen\n",
    "url_page = urlopen(url)\n",
    "\n",
    "# json 파일로 받아오기\n",
    "import json\n",
    "url_data = json.loads(url_page.read())\n",
    "\n",
    "# json을 데이터프레임으로 바꾸기\n",
    "import pandas as pd\n",
    "data = pd.DataFrame(url_data)\n",
    "    \n",
    "# Data Column명 변경\n",
    "data.columns = ['date','time','open','high','low','close','price_ccr','volume_ccr',\n",
    "                'rock','volume','volume_price']\n",
    "data = data[['date', 'time', 'open', 'high', 'low', 'close', 'volume', 'volume_price']]\n",
    "    \n",
    "# 순서 뒤집기\n",
    "data = data[::-1]\n",
    "data['date_time'] = data['date'] + '_' + data['time']\n",
    "data = data.set_index('date_time')\n",
    "    \n",
    "# 필요한 변수만 추출\n",
    "data = data[['open', 'high', 'low', 'close', 'volume']]\n",
    "\n",
    "# 변수 속성 정수로 바꾸기\n",
    "for column in data.columns : \n",
    "    data[column] = data[column].apply(lambda x : int(x))\n",
    "\n",
    "# 진행상태 표시\n",
    "data['state'] = ''\n",
    "\n",
    "# Simulation\n",
    "simulation_df = pd.DataFrame()\n",
    "\n",
    "for idx in data.index : \n",
    "    \n",
    "    # 시가에 매수\n",
    "    if idx == date + '_0910' : \n",
    "        temp = data.loc[idx]\n",
    "        temp['state'] = '매수'\n",
    "        simulation_df = simulation_df.append(temp)\n",
    "        print('시가에 매수 --->', end='\\t')\n",
    "        continue\n",
    "            \n",
    "    # 목표 가격 도달시 매도\n",
    "    if data.loc[idx]['high'] > goal_rate * pred : \n",
    "        temp = data.loc[idx]\n",
    "        temp['state'] = '매도'\n",
    "        simulation_df = simulation_df.append(temp)\n",
    "        print('목표가격에 도달하여 종가로 매도 --- >', end='\\t')\n",
    "        break\n",
    "        \n",
    "    # 이전 check 단계 대비 종가가 2% 이상 하락 현상이 나타난 경우\n",
    "    if int(data.loc[idx]['close']) <= 0.98 * int(simulation_df[-1:][['close']].values[0][0]) : \n",
    "        temp = data.loc[idx]\n",
    "        temp['state'] = '매도'\n",
    "        simulation_df = simulation_df.append(temp)\n",
    "        print(\"직전 time point 대비 종가가 2% 하락하여 일괄 매도 --->\" ,end='\\t')\n",
    "        break\n",
    "    \n",
    "    # 15:00의 종가가 매입가와 오차범위(-1 ~ 1%) 이내일 때\n",
    "    if idx == date + '_1500' : \n",
    "        temp = data.loc[idx]\n",
    "        if temp['high'] - simulation_df.loc['20200318_0910']['open'] <\\\n",
    "                                          0.01 * simulation_df.loc['20200318_0910']['open']  :\n",
    "            temp['state'] = '매도'\n",
    "            simulation_df = simulation_df.append(temp)\n",
    "            print(\"15:00 까지 매입가 대비 움직임이 없어서 일괄 매도 --->\", end='\\t')\n",
    "            break\n",
    "        else : \n",
    "            temp['state'] = '보유'\n",
    "            simulation_df = simulation_df.append(temp)\n",
    "    \n",
    "    # 15:20 종가로 일괄 매도\n",
    "    if idx == date + '_1520' : \n",
    "        temp = data.loc[idx]\n",
    "        temp['state'] = '매도'\n",
    "        simulation_df = simulation_df.append(temp)\n",
    "        print('15:20 도달하여 종가로 일괄 매도 --->', end='\\t')\n",
    "        break\n",
    "    \n",
    "    # 손절 요건이 충족되지 않을 경우 계속 보유\n",
    "    temp = data.loc[idx]\n",
    "    temp['state'] = '보유'\n",
    "    simulation_df = simulation_df.append(temp)\n",
    "    \n",
    "# 시뮬레이션 종료\n",
    "print('시뮬레이션 종료')\n",
    "    \n",
    "# 피쳐 순서\n",
    "simulation_df = simulation_df[['open', 'high', 'low', 'close', 'volume', 'state']]"
   ]
  },
  {
   "cell_type": "markdown",
   "metadata": {},
   "source": [
    "#### 05. 시뮬레이션 결과"
   ]
  },
  {
   "cell_type": "code",
   "execution_count": 6,
   "metadata": {
    "scrolled": false
   },
   "outputs": [
    {
     "data": {
      "text/html": [
       "<div>\n",
       "<style scoped>\n",
       "    .dataframe tbody tr th:only-of-type {\n",
       "        vertical-align: middle;\n",
       "    }\n",
       "\n",
       "    .dataframe tbody tr th {\n",
       "        vertical-align: top;\n",
       "    }\n",
       "\n",
       "    .dataframe thead th {\n",
       "        text-align: right;\n",
       "    }\n",
       "</style>\n",
       "<table border=\"1\" class=\"dataframe\">\n",
       "  <thead>\n",
       "    <tr style=\"text-align: right;\">\n",
       "      <th></th>\n",
       "      <th>open</th>\n",
       "      <th>high</th>\n",
       "      <th>low</th>\n",
       "      <th>close</th>\n",
       "      <th>volume</th>\n",
       "      <th>state</th>\n",
       "    </tr>\n",
       "  </thead>\n",
       "  <tbody>\n",
       "    <tr>\n",
       "      <th>20200318_0910</th>\n",
       "      <td>430.0</td>\n",
       "      <td>431.0</td>\n",
       "      <td>425.0</td>\n",
       "      <td>425.0</td>\n",
       "      <td>6811.0</td>\n",
       "      <td>매수</td>\n",
       "    </tr>\n",
       "    <tr>\n",
       "      <th>20200318_0920</th>\n",
       "      <td>425.0</td>\n",
       "      <td>432.0</td>\n",
       "      <td>425.0</td>\n",
       "      <td>426.0</td>\n",
       "      <td>349.0</td>\n",
       "      <td>보유</td>\n",
       "    </tr>\n",
       "    <tr>\n",
       "      <th>20200318_0930</th>\n",
       "      <td>432.0</td>\n",
       "      <td>438.0</td>\n",
       "      <td>425.0</td>\n",
       "      <td>425.0</td>\n",
       "      <td>3720.0</td>\n",
       "      <td>보유</td>\n",
       "    </tr>\n",
       "    <tr>\n",
       "      <th>20200318_0940</th>\n",
       "      <td>424.0</td>\n",
       "      <td>432.0</td>\n",
       "      <td>423.0</td>\n",
       "      <td>423.0</td>\n",
       "      <td>1010.0</td>\n",
       "      <td>보유</td>\n",
       "    </tr>\n",
       "    <tr>\n",
       "      <th>20200318_0950</th>\n",
       "      <td>424.0</td>\n",
       "      <td>431.0</td>\n",
       "      <td>423.0</td>\n",
       "      <td>431.0</td>\n",
       "      <td>3671.0</td>\n",
       "      <td>보유</td>\n",
       "    </tr>\n",
       "    <tr>\n",
       "      <th>20200318_1000</th>\n",
       "      <td>422.0</td>\n",
       "      <td>430.0</td>\n",
       "      <td>420.0</td>\n",
       "      <td>430.0</td>\n",
       "      <td>6.0</td>\n",
       "      <td>보유</td>\n",
       "    </tr>\n",
       "    <tr>\n",
       "      <th>20200318_1010</th>\n",
       "      <td>422.0</td>\n",
       "      <td>429.0</td>\n",
       "      <td>419.0</td>\n",
       "      <td>429.0</td>\n",
       "      <td>5010.0</td>\n",
       "      <td>보유</td>\n",
       "    </tr>\n",
       "    <tr>\n",
       "      <th>20200318_1020</th>\n",
       "      <td>420.0</td>\n",
       "      <td>420.0</td>\n",
       "      <td>415.0</td>\n",
       "      <td>415.0</td>\n",
       "      <td>16065.0</td>\n",
       "      <td>매도</td>\n",
       "    </tr>\n",
       "  </tbody>\n",
       "</table>\n",
       "</div>"
      ],
      "text/plain": [
       "                open   high    low  close   volume state\n",
       "20200318_0910  430.0  431.0  425.0  425.0   6811.0    매수\n",
       "20200318_0920  425.0  432.0  425.0  426.0    349.0    보유\n",
       "20200318_0930  432.0  438.0  425.0  425.0   3720.0    보유\n",
       "20200318_0940  424.0  432.0  423.0  423.0   1010.0    보유\n",
       "20200318_0950  424.0  431.0  423.0  431.0   3671.0    보유\n",
       "20200318_1000  422.0  430.0  420.0  430.0      6.0    보유\n",
       "20200318_1010  422.0  429.0  419.0  429.0   5010.0    보유\n",
       "20200318_1020  420.0  420.0  415.0  415.0  16065.0    매도"
      ]
     },
     "execution_count": 6,
     "metadata": {},
     "output_type": "execute_result"
    }
   ],
   "source": [
    "simulation_df"
   ]
  },
  {
   "cell_type": "markdown",
   "metadata": {},
   "source": [
    "#### 06. 수익률"
   ]
  },
  {
   "cell_type": "code",
   "execution_count": 7,
   "metadata": {},
   "outputs": [
    {
     "name": "stdout",
     "output_type": "stream",
     "text": [
      "종목 코드 : 043260,     매수가 : 430.0,     매도가 : 415,     수익률 : -3.49%\n"
     ]
    }
   ],
   "source": [
    "buy = simulation_df.loc['20200318_0910']['open']\n",
    "cell = int(simulation_df[-1:]['close'])\n",
    "rate = (100 * (cell - buy)) / buy\n",
    "print('종목 코드 : {},     매수가 : {},     매도가 : {},     수익률 : {:.2f}%' .format(code, buy, cell, rate))"
   ]
  }
 ],
 "metadata": {
  "kernelspec": {
   "display_name": "Python 3",
   "language": "python",
   "name": "python3"
  },
  "language_info": {
   "codemirror_mode": {
    "name": "ipython",
    "version": 3
   },
   "file_extension": ".py",
   "mimetype": "text/x-python",
   "name": "python",
   "nbconvert_exporter": "python",
   "pygments_lexer": "ipython3",
   "version": "3.7.3"
  }
 },
 "nbformat": 4,
 "nbformat_minor": 2
}
