{
 "cells": [
  {
   "cell_type": "markdown",
   "metadata": {},
   "source": [
    "### 01. Data Loading"
   ]
  },
  {
   "cell_type": "code",
   "execution_count": 1,
   "metadata": {},
   "outputs": [
    {
     "data": {
      "text/html": [
       "<div>\n",
       "<style scoped>\n",
       "    .dataframe tbody tr th:only-of-type {\n",
       "        vertical-align: middle;\n",
       "    }\n",
       "\n",
       "    .dataframe tbody tr th {\n",
       "        vertical-align: top;\n",
       "    }\n",
       "\n",
       "    .dataframe thead th {\n",
       "        text-align: right;\n",
       "    }\n",
       "</style>\n",
       "<table border=\"1\" class=\"dataframe\">\n",
       "  <thead>\n",
       "    <tr style=\"text-align: right;\">\n",
       "      <th></th>\n",
       "      <th>Close</th>\n",
       "      <th>Open</th>\n",
       "      <th>High</th>\n",
       "      <th>Low</th>\n",
       "    </tr>\n",
       "    <tr>\n",
       "      <th>Date</th>\n",
       "      <th></th>\n",
       "      <th></th>\n",
       "      <th></th>\n",
       "      <th></th>\n",
       "    </tr>\n",
       "  </thead>\n",
       "  <tbody>\n",
       "    <tr>\n",
       "      <th>2011-08-23</th>\n",
       "      <td>17050.0</td>\n",
       "      <td>16200.0</td>\n",
       "      <td>17050.0</td>\n",
       "      <td>16000.0</td>\n",
       "    </tr>\n",
       "    <tr>\n",
       "      <th>2011-08-24</th>\n",
       "      <td>16250.0</td>\n",
       "      <td>17200.0</td>\n",
       "      <td>17550.0</td>\n",
       "      <td>15900.0</td>\n",
       "    </tr>\n",
       "    <tr>\n",
       "      <th>2011-08-25</th>\n",
       "      <td>17300.0</td>\n",
       "      <td>16900.0</td>\n",
       "      <td>17700.0</td>\n",
       "      <td>16700.0</td>\n",
       "    </tr>\n",
       "    <tr>\n",
       "      <th>2011-08-26</th>\n",
       "      <td>17950.0</td>\n",
       "      <td>17050.0</td>\n",
       "      <td>17950.0</td>\n",
       "      <td>16950.0</td>\n",
       "    </tr>\n",
       "    <tr>\n",
       "      <th>2011-08-29</th>\n",
       "      <td>19450.0</td>\n",
       "      <td>18550.0</td>\n",
       "      <td>19600.0</td>\n",
       "      <td>18350.0</td>\n",
       "    </tr>\n",
       "    <tr>\n",
       "      <th>...</th>\n",
       "      <td>...</td>\n",
       "      <td>...</td>\n",
       "      <td>...</td>\n",
       "      <td>...</td>\n",
       "    </tr>\n",
       "    <tr>\n",
       "      <th>2020-02-13</th>\n",
       "      <td>102000.0</td>\n",
       "      <td>100500.0</td>\n",
       "      <td>103500.0</td>\n",
       "      <td>100500.0</td>\n",
       "    </tr>\n",
       "    <tr>\n",
       "      <th>2020-02-14</th>\n",
       "      <td>104500.0</td>\n",
       "      <td>101500.0</td>\n",
       "      <td>105000.0</td>\n",
       "      <td>101000.0</td>\n",
       "    </tr>\n",
       "    <tr>\n",
       "      <th>2020-02-16</th>\n",
       "      <td>104500.0</td>\n",
       "      <td>104500.0</td>\n",
       "      <td>104500.0</td>\n",
       "      <td>104500.0</td>\n",
       "    </tr>\n",
       "    <tr>\n",
       "      <th>2020-02-17</th>\n",
       "      <td>105000.0</td>\n",
       "      <td>104500.0</td>\n",
       "      <td>106000.0</td>\n",
       "      <td>103500.0</td>\n",
       "    </tr>\n",
       "    <tr>\n",
       "      <th>2020-02-18</th>\n",
       "      <td>102000.0</td>\n",
       "      <td>103500.0</td>\n",
       "      <td>104000.0</td>\n",
       "      <td>102000.0</td>\n",
       "    </tr>\n",
       "  </tbody>\n",
       "</table>\n",
       "<p>2397 rows × 4 columns</p>\n",
       "</div>"
      ],
      "text/plain": [
       "               Close      Open      High       Low\n",
       "Date                                              \n",
       "2011-08-23   17050.0   16200.0   17050.0   16000.0\n",
       "2011-08-24   16250.0   17200.0   17550.0   15900.0\n",
       "2011-08-25   17300.0   16900.0   17700.0   16700.0\n",
       "2011-08-26   17950.0   17050.0   17950.0   16950.0\n",
       "2011-08-29   19450.0   18550.0   19600.0   18350.0\n",
       "...              ...       ...       ...       ...\n",
       "2020-02-13  102000.0  100500.0  103500.0  100500.0\n",
       "2020-02-14  104500.0  101500.0  105000.0  101000.0\n",
       "2020-02-16  104500.0  104500.0  104500.0  104500.0\n",
       "2020-02-17  105000.0  104500.0  106000.0  103500.0\n",
       "2020-02-18  102000.0  103500.0  104000.0  102000.0\n",
       "\n",
       "[2397 rows x 4 columns]"
      ]
     },
     "execution_count": 1,
     "metadata": {},
     "output_type": "execute_result"
    }
   ],
   "source": [
    "# Data Loading\n",
    "import pandas as pd\n",
    "data = pd.read_csv('./data/000660.csv')\n",
    "\n",
    "# Columns\n",
    "data.columns = ['Date', 'Close', 'Open', 'High', 'Low', 'Volume', 'Rate']\n",
    "\n",
    "# Date\n",
    "Date = data['Date'].apply(lambda x : x.replace('년 ','-'))\\\n",
    "                   .apply(lambda x : x.replace('월 ','-'))\\\n",
    "                   .apply(lambda x : x.replace('일',''))\n",
    "data['Date'] = Date\n",
    "\n",
    "# Close\n",
    "import numpy as np\n",
    "Close = data['Close'].apply(lambda x : x.replace(',','')).apply(lambda x : np.float(x))\n",
    "data['Close'] = Close\n",
    "\n",
    "# Open\n",
    "Open = data['Open'].apply(lambda x : x.replace(',','')).apply(lambda x : np.float(x))\n",
    "data['Open'] = Open\n",
    "\n",
    "# High\n",
    "High = data['High'].apply(lambda x : x.replace(',','')).apply(lambda x : np.float(x))\n",
    "data['High'] = High\n",
    "\n",
    "# Low\n",
    "Low = data['Low'].apply(lambda x : x.replace(',','')).apply(lambda x : np.float(x))\n",
    "data['Low'] = Low\n",
    "\n",
    "# Rate\n",
    "Rate = data['Rate'].apply(lambda x : x.replace('%','')).apply(lambda x : np.float(x))\n",
    "data['Rate'] = Rate\n",
    "\n",
    "# Time Reverse\n",
    "data = data[::-1]\n",
    "\n",
    "# Index\n",
    "data = data.set_index('Date')\n",
    "\n",
    "# Del Volume, Rate\n",
    "del data['Volume']\n",
    "del data['Rate']\n",
    "\n",
    "# Data Head\n",
    "data"
   ]
  },
  {
   "cell_type": "markdown",
   "metadata": {},
   "source": [
    "### 02. Rate"
   ]
  },
  {
   "cell_type": "code",
   "execution_count": 2,
   "metadata": {},
   "outputs": [
    {
     "data": {
      "text/html": [
       "<div>\n",
       "<style scoped>\n",
       "    .dataframe tbody tr th:only-of-type {\n",
       "        vertical-align: middle;\n",
       "    }\n",
       "\n",
       "    .dataframe tbody tr th {\n",
       "        vertical-align: top;\n",
       "    }\n",
       "\n",
       "    .dataframe thead th {\n",
       "        text-align: right;\n",
       "    }\n",
       "</style>\n",
       "<table border=\"1\" class=\"dataframe\">\n",
       "  <thead>\n",
       "    <tr style=\"text-align: right;\">\n",
       "      <th></th>\n",
       "      <th>Close_Rate</th>\n",
       "      <th>Open_Rate</th>\n",
       "      <th>High_Rate</th>\n",
       "      <th>Low_Rate</th>\n",
       "      <th>Label</th>\n",
       "    </tr>\n",
       "    <tr>\n",
       "      <th>Date</th>\n",
       "      <th></th>\n",
       "      <th></th>\n",
       "      <th></th>\n",
       "      <th></th>\n",
       "      <th></th>\n",
       "    </tr>\n",
       "  </thead>\n",
       "  <tbody>\n",
       "    <tr>\n",
       "      <th>2011-08-24</th>\n",
       "      <td>-4.692082</td>\n",
       "      <td>6.172840</td>\n",
       "      <td>2.932551</td>\n",
       "      <td>-0.625000</td>\n",
       "      <td>1</td>\n",
       "    </tr>\n",
       "    <tr>\n",
       "      <th>2011-08-25</th>\n",
       "      <td>6.461538</td>\n",
       "      <td>-1.744186</td>\n",
       "      <td>0.854701</td>\n",
       "      <td>5.031447</td>\n",
       "      <td>1</td>\n",
       "    </tr>\n",
       "    <tr>\n",
       "      <th>2011-08-26</th>\n",
       "      <td>3.757225</td>\n",
       "      <td>0.887574</td>\n",
       "      <td>1.412429</td>\n",
       "      <td>1.497006</td>\n",
       "      <td>1</td>\n",
       "    </tr>\n",
       "    <tr>\n",
       "      <th>2011-08-29</th>\n",
       "      <td>8.356546</td>\n",
       "      <td>8.797654</td>\n",
       "      <td>9.192201</td>\n",
       "      <td>8.259587</td>\n",
       "      <td>0</td>\n",
       "    </tr>\n",
       "    <tr>\n",
       "      <th>2011-08-30</th>\n",
       "      <td>-2.313625</td>\n",
       "      <td>7.277628</td>\n",
       "      <td>3.316327</td>\n",
       "      <td>3.542234</td>\n",
       "      <td>1</td>\n",
       "    </tr>\n",
       "    <tr>\n",
       "      <th>...</th>\n",
       "      <td>...</td>\n",
       "      <td>...</td>\n",
       "      <td>...</td>\n",
       "      <td>...</td>\n",
       "      <td>...</td>\n",
       "    </tr>\n",
       "    <tr>\n",
       "      <th>2020-02-13</th>\n",
       "      <td>2.000000</td>\n",
       "      <td>0.000000</td>\n",
       "      <td>2.475248</td>\n",
       "      <td>1.412714</td>\n",
       "      <td>1</td>\n",
       "    </tr>\n",
       "    <tr>\n",
       "      <th>2020-02-14</th>\n",
       "      <td>2.450980</td>\n",
       "      <td>0.995025</td>\n",
       "      <td>1.449275</td>\n",
       "      <td>0.497512</td>\n",
       "      <td>0</td>\n",
       "    </tr>\n",
       "    <tr>\n",
       "      <th>2020-02-16</th>\n",
       "      <td>0.000000</td>\n",
       "      <td>2.955665</td>\n",
       "      <td>-0.476190</td>\n",
       "      <td>3.465347</td>\n",
       "      <td>1</td>\n",
       "    </tr>\n",
       "    <tr>\n",
       "      <th>2020-02-17</th>\n",
       "      <td>0.478469</td>\n",
       "      <td>0.000000</td>\n",
       "      <td>1.435407</td>\n",
       "      <td>-0.956938</td>\n",
       "      <td>0</td>\n",
       "    </tr>\n",
       "    <tr>\n",
       "      <th>2020-02-18</th>\n",
       "      <td>-2.857143</td>\n",
       "      <td>-0.956938</td>\n",
       "      <td>-1.886792</td>\n",
       "      <td>-1.449275</td>\n",
       "      <td>0</td>\n",
       "    </tr>\n",
       "  </tbody>\n",
       "</table>\n",
       "<p>2396 rows × 5 columns</p>\n",
       "</div>"
      ],
      "text/plain": [
       "            Close_Rate  Open_Rate  High_Rate  Low_Rate  Label\n",
       "Date                                                         \n",
       "2011-08-24   -4.692082   6.172840   2.932551 -0.625000      1\n",
       "2011-08-25    6.461538  -1.744186   0.854701  5.031447      1\n",
       "2011-08-26    3.757225   0.887574   1.412429  1.497006      1\n",
       "2011-08-29    8.356546   8.797654   9.192201  8.259587      0\n",
       "2011-08-30   -2.313625   7.277628   3.316327  3.542234      1\n",
       "...                ...        ...        ...       ...    ...\n",
       "2020-02-13    2.000000   0.000000   2.475248  1.412714      1\n",
       "2020-02-14    2.450980   0.995025   1.449275  0.497512      0\n",
       "2020-02-16    0.000000   2.955665  -0.476190  3.465347      1\n",
       "2020-02-17    0.478469   0.000000   1.435407 -0.956938      0\n",
       "2020-02-18   -2.857143  -0.956938  -1.886792 -1.449275      0\n",
       "\n",
       "[2396 rows x 5 columns]"
      ]
     },
     "execution_count": 2,
     "metadata": {},
     "output_type": "execute_result"
    }
   ],
   "source": [
    "# List\n",
    "columns = [\"Close\", \"Open\", \"High\", \"Low\"]\n",
    "\n",
    "# Data Shift\n",
    "for col in columns : \n",
    "    for s in range(1,2):\n",
    "        data['{}_Shift_{}'.format(col,s)] = data[col].shift(s)\n",
    "        \n",
    "# NaN Omit\n",
    "data = data.dropna()\n",
    "\n",
    "# Rate\n",
    "import warnings\n",
    "warnings.filterwarnings(action='ignore') \n",
    "data['Close_Rate'] = 100 * (data['Close'] - data['Close_Shift_1']) / data['Close_Shift_1']\n",
    "data['Open_Rate'] = 100 * (data['Open'] - data['Open_Shift_1']) / data['Open_Shift_1']\n",
    "data['High_Rate'] = 100 * (data['High'] - data['High_Shift_1']) / data['High_Shift_1']\n",
    "data['Low_Rate'] = 100 * (data['Low'] - data['Low_Shift_1']) / data['Low_Shift_1']\n",
    "\n",
    "# Feature Selecting\n",
    "data = data[['Close', 'Close_Rate', 'Open_Rate', 'High_Rate', 'Low_Rate']]\n",
    "\n",
    "# Label\n",
    "data['Close_SHIFT_1'] = data['Close'].shift(-1)\n",
    "data['Rate'] = data['Close_SHIFT_1'] - data['Close']\n",
    "data['Label'] = data['Rate'].apply(lambda x : 1 if x > 0 else 0)\n",
    "data = data[['Close_Rate', 'Open_Rate', 'High_Rate', 'Low_Rate', 'Label']]\n",
    "\n",
    "# Data Head\n",
    "data"
   ]
  },
  {
   "cell_type": "markdown",
   "metadata": {},
   "source": [
    "### 03. Train Test Split"
   ]
  },
  {
   "cell_type": "code",
   "execution_count": 3,
   "metadata": {},
   "outputs": [],
   "source": [
    "train = data[:'2018-01-01']\n",
    "valid = data['2018-01-01':'2019-01-01']\n",
    "test = data['2019-01-01':]"
   ]
  },
  {
   "cell_type": "markdown",
   "metadata": {},
   "source": [
    "### 04. Target / Input"
   ]
  },
  {
   "cell_type": "code",
   "execution_count": 4,
   "metadata": {},
   "outputs": [],
   "source": [
    "X_train = train[['Close_Rate', 'Open_Rate', 'High_Rate', 'Low_Rate']]\n",
    "X_valid = valid[['Close_Rate', 'Open_Rate', 'High_Rate', 'Low_Rate']]\n",
    "X_test = test[['Close_Rate', 'Open_Rate', 'High_Rate', 'Low_Rate']]\n",
    "Y_train = train[['Label']]\n",
    "Y_valid = valid[['Label']]\n",
    "Y_test = test[['Label']]"
   ]
  },
  {
   "cell_type": "markdown",
   "metadata": {},
   "source": [
    "### 04. Data Normalization"
   ]
  },
  {
   "cell_type": "code",
   "execution_count": 5,
   "metadata": {},
   "outputs": [],
   "source": [
    "# Train\n",
    "mean = X_train.mean(axis=0)\n",
    "X_train -= mean\n",
    "std = X_train.std(axis=0)\n",
    "X_train /= std\n",
    "\n",
    "# Valid\n",
    "X_valid -= mean\n",
    "X_valid /= std\n",
    "\n",
    "# Test\n",
    "X_test -= mean\n",
    "X_test /= std"
   ]
  },
  {
   "cell_type": "markdown",
   "metadata": {},
   "source": [
    "### 05. DNN"
   ]
  },
  {
   "cell_type": "code",
   "execution_count": 6,
   "metadata": {
    "scrolled": false
   },
   "outputs": [
    {
     "name": "stderr",
     "output_type": "stream",
     "text": [
      "Using TensorFlow backend.\n"
     ]
    },
    {
     "name": "stdout",
     "output_type": "stream",
     "text": [
      "WARNING:tensorflow:From /usr/local/lib/python3.6/dist-packages/keras/backend/tensorflow_backend.py:74: The name tf.get_default_graph is deprecated. Please use tf.compat.v1.get_default_graph instead.\n",
      "\n",
      "WARNING:tensorflow:From /usr/local/lib/python3.6/dist-packages/keras/backend/tensorflow_backend.py:517: The name tf.placeholder is deprecated. Please use tf.compat.v1.placeholder instead.\n",
      "\n",
      "WARNING:tensorflow:From /usr/local/lib/python3.6/dist-packages/keras/backend/tensorflow_backend.py:4138: The name tf.random_uniform is deprecated. Please use tf.random.uniform instead.\n",
      "\n",
      "WARNING:tensorflow:From /usr/local/lib/python3.6/dist-packages/keras/optimizers.py:790: The name tf.train.Optimizer is deprecated. Please use tf.compat.v1.train.Optimizer instead.\n",
      "\n",
      "WARNING:tensorflow:From /usr/local/lib/python3.6/dist-packages/keras/backend/tensorflow_backend.py:3376: The name tf.log is deprecated. Please use tf.math.log instead.\n",
      "\n",
      "WARNING:tensorflow:From /usr/local/lib/python3.6/dist-packages/tensorflow/python/ops/nn_impl.py:180: add_dispatch_support.<locals>.wrapper (from tensorflow.python.ops.array_ops) is deprecated and will be removed in a future version.\n",
      "Instructions for updating:\n",
      "Use tf.where in 2.0, which has the same broadcast rule as np.where\n",
      "WARNING:tensorflow:From /usr/local/lib/python3.6/dist-packages/keras/backend/tensorflow_backend.py:986: The name tf.assign_add is deprecated. Please use tf.compat.v1.assign_add instead.\n",
      "\n",
      "Train on 1784 samples, validate on 297 samples\n",
      "Epoch 1/20\n",
      "1784/1784 [==============================] - 3s 2ms/step - loss: 0.6890 - acc: 0.5471 - val_loss: 0.6769 - val_acc: 0.5926\n",
      "Epoch 2/20\n",
      "1784/1784 [==============================] - 0s 8us/step - loss: 0.6856 - acc: 0.5639 - val_loss: 0.6769 - val_acc: 0.5960\n",
      "Epoch 3/20\n",
      "1784/1784 [==============================] - 0s 8us/step - loss: 0.6848 - acc: 0.5639 - val_loss: 0.6762 - val_acc: 0.5892\n",
      "Epoch 4/20\n",
      "1784/1784 [==============================] - 0s 7us/step - loss: 0.6835 - acc: 0.5617 - val_loss: 0.6755 - val_acc: 0.5892\n",
      "Epoch 5/20\n",
      "1784/1784 [==============================] - 0s 9us/step - loss: 0.6826 - acc: 0.5633 - val_loss: 0.6756 - val_acc: 0.5892\n",
      "Epoch 6/20\n",
      "1784/1784 [==============================] - 0s 9us/step - loss: 0.6819 - acc: 0.5650 - val_loss: 0.6754 - val_acc: 0.5892\n",
      "Epoch 7/20\n",
      "1784/1784 [==============================] - 0s 9us/step - loss: 0.6817 - acc: 0.5617 - val_loss: 0.6752 - val_acc: 0.5758\n",
      "Epoch 8/20\n",
      "1784/1784 [==============================] - 0s 9us/step - loss: 0.6807 - acc: 0.5678 - val_loss: 0.6749 - val_acc: 0.5791\n",
      "Epoch 9/20\n",
      "1784/1784 [==============================] - 0s 9us/step - loss: 0.6804 - acc: 0.5661 - val_loss: 0.6749 - val_acc: 0.5758\n",
      "Epoch 10/20\n",
      "1784/1784 [==============================] - 0s 8us/step - loss: 0.6796 - acc: 0.5650 - val_loss: 0.6744 - val_acc: 0.5791\n",
      "Epoch 11/20\n",
      "1784/1784 [==============================] - 0s 9us/step - loss: 0.6792 - acc: 0.5645 - val_loss: 0.6743 - val_acc: 0.5825\n",
      "Epoch 12/20\n",
      "1784/1784 [==============================] - 0s 8us/step - loss: 0.6791 - acc: 0.5673 - val_loss: 0.6743 - val_acc: 0.5791\n",
      "Epoch 13/20\n",
      "1784/1784 [==============================] - 0s 9us/step - loss: 0.6788 - acc: 0.5633 - val_loss: 0.6747 - val_acc: 0.5657\n",
      "Epoch 14/20\n",
      "1784/1784 [==============================] - 0s 8us/step - loss: 0.6786 - acc: 0.5785 - val_loss: 0.6737 - val_acc: 0.5825\n",
      "Epoch 15/20\n",
      "1784/1784 [==============================] - 0s 9us/step - loss: 0.6777 - acc: 0.5684 - val_loss: 0.6734 - val_acc: 0.5825\n",
      "Epoch 16/20\n",
      "1784/1784 [==============================] - 0s 9us/step - loss: 0.6774 - acc: 0.5689 - val_loss: 0.6733 - val_acc: 0.5892\n",
      "Epoch 17/20\n",
      "1784/1784 [==============================] - 0s 9us/step - loss: 0.6777 - acc: 0.5650 - val_loss: 0.6742 - val_acc: 0.5724\n",
      "Epoch 18/20\n",
      "1784/1784 [==============================] - 0s 9us/step - loss: 0.6772 - acc: 0.5723 - val_loss: 0.6737 - val_acc: 0.5791\n",
      "Epoch 19/20\n",
      "1784/1784 [==============================] - 0s 9us/step - loss: 0.6766 - acc: 0.5712 - val_loss: 0.6738 - val_acc: 0.5825\n",
      "Epoch 20/20\n",
      "1784/1784 [==============================] - 0s 9us/step - loss: 0.6764 - acc: 0.5746 - val_loss: 0.6733 - val_acc: 0.5791\n"
     ]
    }
   ],
   "source": [
    "from keras import models\n",
    "from keras import layers\n",
    "from keras import optimizers\n",
    "from keras import metrics\n",
    "\n",
    "# Model Build\n",
    "model = models.Sequential()\n",
    "model.add(layers.Dense(32, activation='relu', input_shape=(4,)))\n",
    "model.add(layers.Dense(32, activation='relu'))\n",
    "model.add(layers.Dense(1, activation='sigmoid'))\n",
    "\n",
    "# Model Compile\n",
    "model.compile(optimizer = optimizers.RMSprop(lr=0.001),\n",
    "              loss = 'binary_crossentropy',\n",
    "              metrics = ['acc'])\n",
    "\n",
    "# History\n",
    "history = model.fit(X_train,\n",
    "                    Y_train,\n",
    "                    epochs = 20,\n",
    "                    batch_size = 1000,\n",
    "                    validation_data = (X_valid, Y_valid))"
   ]
  },
  {
   "cell_type": "markdown",
   "metadata": {},
   "source": [
    "### Train Valid Loss Graph"
   ]
  },
  {
   "cell_type": "code",
   "execution_count": 7,
   "metadata": {},
   "outputs": [
    {
     "data": {
      "image/png": "[encoded data removed]",
      "text/plain": [
       "<Figure size 1296x432 with 1 Axes>"
      ]
     },
     "metadata": {
      "needs_background": "light"
     },
     "output_type": "display_data"
    }
   ],
   "source": [
    "import matplotlib.pyplot as plt\n",
    "\n",
    "history_dict = history.history\n",
    "loss = history_dict['loss']\n",
    "val_loss = history_dict['val_loss']\n",
    "\n",
    "epochs = range(1, len(loss) + 1)\n",
    "\n",
    "plt.figure(figsize=(18,6))\n",
    "plt.plot(epochs, loss, 'bo', label='Training Loss')\n",
    "plt.plot(epochs, val_loss, 'b', label='Val Loss')\n",
    "plt.title('Training and Validation Loss')\n",
    "plt.xlabel('Epochs')\n",
    "plt.ylabel('Loss')\n",
    "plt.legend()\n",
    "plt.show()"
   ]
  },
  {
   "cell_type": "markdown",
   "metadata": {},
   "source": [
    "### Train Valid Accuracy"
   ]
  },
  {
   "cell_type": "code",
   "execution_count": 8,
   "metadata": {},
   "outputs": [
    {
     "data": {
      "text/plain": [
       "<Figure size 432x288 with 0 Axes>"
      ]
     },
     "metadata": {},
     "output_type": "display_data"
    },
    {
     "data": {
      "image/png": "[encoded data removed]",
      "text/plain": [
       "<Figure size 1296x432 with 1 Axes>"
      ]
     },
     "metadata": {
      "needs_background": "light"
     },
     "output_type": "display_data"
    }
   ],
   "source": [
    "plt.clf()\n",
    "acc = history_dict['acc']\n",
    "val_acc = history_dict['val_acc']\n",
    "\n",
    "plt.figure(figsize=(18,6))\n",
    "plt.plot(epochs, acc, 'bo', label='Training acc')\n",
    "plt.plot(epochs, val_acc, 'b', label='Val acc')\n",
    "plt.title('Training and Validation Loss')\n",
    "plt.xlabel('Epochs')\n",
    "plt.ylabel('Accuracy')\n",
    "plt.legend()\n",
    "plt.show()"
   ]
  },
  {
   "cell_type": "markdown",
   "metadata": {},
   "source": [
    "###  Test Result"
   ]
  },
  {
   "cell_type": "code",
   "execution_count": 20,
   "metadata": {},
   "outputs": [
    {
     "name": "stdout",
     "output_type": "stream",
     "text": [
      "316/316 [==============================] - 0s 66us/step\n",
      "|  Test  |  Loss = 0.6861  |  Accuracy = 55.06%  |\n"
     ]
    }
   ],
   "source": [
    "results = model.evaluate(X_test, Y_test)\n",
    "print('|  Test  |  Loss = {:.4f}  |  Accuracy = {:.2f}%  |' .format(results[0], 100*results[1]))"
   ]
  }
 ],
 "metadata": {
  "kernelspec": {
   "display_name": "Python 3",
   "language": "python",
   "name": "python3"
  },
  "language_info": {
   "codemirror_mode": {
    "name": "ipython",
    "version": 3
   },
   "file_extension": ".py",
   "mimetype": "text/x-python",
   "name": "python",
   "nbconvert_exporter": "python",
   "pygments_lexer": "ipython3",
   "version": "3.6.8"
  }
 },
 "nbformat": 4,
 "nbformat_minor": 4
}
