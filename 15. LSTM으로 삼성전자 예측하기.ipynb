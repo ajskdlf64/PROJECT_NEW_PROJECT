{
 "cells": [
  {
   "cell_type": "markdown",
   "metadata": {},
   "source": [
    "# Forecast a multivariate time series : Stock Market Price "
   ]
  },
  {
   "cell_type": "markdown",
   "metadata": {},
   "source": [
    "## 1. Data Loading and Setting"
   ]
  },
  {
   "cell_type": "markdown",
   "metadata": {},
   "source": [
    "**1-1. 신한 TR에서 불러올 정보 셋팅**"
   ]
  },
  {
   "cell_type": "code",
   "execution_count": 1,
   "metadata": {
    "scrolled": false
   },
   "outputs": [],
   "source": [
    "code = '005930'          \n",
    "tr_name = 'TR_SCHART'\n",
    "term = '1'\n",
    "start_date = '20200101'   \n",
    "end_date = '20200311'\n",
    "Lookup = '9999' "
   ]
  },
  {
   "cell_type": "markdown",
   "metadata": {},
   "source": [
    "**1-2. TR json 파일을 데이터프레임으로 변환**"
   ]
  },
  {
   "cell_type": "code",
   "execution_count": 2,
   "metadata": {},
   "outputs": [],
   "source": [
    "url = 'http://ssecd.roboadvisor.co.kr:9999/' + tr_name + '?0=' + code + '&1=' + term + '&2=10' +\\\n",
    "      '&3=' + start_date + '&4=' + end_date + '&5=' + Lookup"
   ]
  },
  {
   "cell_type": "code",
   "execution_count": 3,
   "metadata": {},
   "outputs": [],
   "source": [
    "from urllib.request import urlopen\n",
    "url_page = urlopen(url)"
   ]
  },
  {
   "cell_type": "code",
   "execution_count": 4,
   "metadata": {},
   "outputs": [],
   "source": [
    "import json\n",
    "url_data = json.loads(url_page.read())"
   ]
  },
  {
   "cell_type": "code",
   "execution_count": 5,
   "metadata": {},
   "outputs": [],
   "source": [
    "import pandas as pd\n",
    "data = pd.DataFrame(url_data)"
   ]
  },
  {
   "cell_type": "markdown",
   "metadata": {},
   "source": [
    "**1-3. 데이터프레임의 칼럼명과 데이터 순서 등을 지정**"
   ]
  },
  {
   "cell_type": "code",
   "execution_count": 6,
   "metadata": {},
   "outputs": [],
   "source": [
    "data.columns = ['date','time','open','high','low','close','price_ccr','volume_ccr','rock','volume','volume_price']\n",
    "data = data[['date', 'time', 'open', 'high', 'low', 'close', 'volume', 'volume_price']]\n",
    "data = data[::-1]\n",
    "data['date_time'] = data['date'] + data['time']\n",
    "data = data.set_index('date_time')\n",
    "data = data[['open', 'high', 'low', 'close', 'volume', 'volume_price']]"
   ]
  },
  {
   "cell_type": "markdown",
   "metadata": {},
   "source": [
    "**1-4. 데이터 속성을 모두 정수로 변경**"
   ]
  },
  {
   "cell_type": "code",
   "execution_count": 7,
   "metadata": {},
   "outputs": [],
   "source": [
    "for column in data.columns : \n",
    "    data[column] = data[column].apply(lambda x : int(x))"
   ]
  },
  {
   "cell_type": "markdown",
   "metadata": {},
   "source": [
    "**1-5. 데이터 결과**"
   ]
  },
  {
   "cell_type": "code",
   "execution_count": 8,
   "metadata": {},
   "outputs": [
    {
     "data": {
      "text/html": [
       "<div>\n",
       "<style scoped>\n",
       "    .dataframe tbody tr th:only-of-type {\n",
       "        vertical-align: middle;\n",
       "    }\n",
       "\n",
       "    .dataframe tbody tr th {\n",
       "        vertical-align: top;\n",
       "    }\n",
       "\n",
       "    .dataframe thead th {\n",
       "        text-align: right;\n",
       "    }\n",
       "</style>\n",
       "<table border=\"1\" class=\"dataframe\">\n",
       "  <thead>\n",
       "    <tr style=\"text-align: right;\">\n",
       "      <th></th>\n",
       "      <th>open</th>\n",
       "      <th>high</th>\n",
       "      <th>low</th>\n",
       "      <th>close</th>\n",
       "      <th>volume</th>\n",
       "      <th>volume_price</th>\n",
       "    </tr>\n",
       "    <tr>\n",
       "      <th>date_time</th>\n",
       "      <th></th>\n",
       "      <th></th>\n",
       "      <th></th>\n",
       "      <th></th>\n",
       "      <th></th>\n",
       "      <th></th>\n",
       "    </tr>\n",
       "  </thead>\n",
       "  <tbody>\n",
       "    <tr>\n",
       "      <th>202001021010</th>\n",
       "      <td>55500</td>\n",
       "      <td>56000</td>\n",
       "      <td>55500</td>\n",
       "      <td>55500</td>\n",
       "      <td>1847051</td>\n",
       "      <td>102799934000</td>\n",
       "    </tr>\n",
       "    <tr>\n",
       "      <th>202001021020</th>\n",
       "      <td>55500</td>\n",
       "      <td>55700</td>\n",
       "      <td>55300</td>\n",
       "      <td>55300</td>\n",
       "      <td>671417</td>\n",
       "      <td>37250860500</td>\n",
       "    </tr>\n",
       "    <tr>\n",
       "      <th>202001021030</th>\n",
       "      <td>55400</td>\n",
       "      <td>55400</td>\n",
       "      <td>55100</td>\n",
       "      <td>55300</td>\n",
       "      <td>488563</td>\n",
       "      <td>26984027000</td>\n",
       "    </tr>\n",
       "    <tr>\n",
       "      <th>202001021040</th>\n",
       "      <td>55300</td>\n",
       "      <td>55300</td>\n",
       "      <td>55100</td>\n",
       "      <td>55300</td>\n",
       "      <td>289139</td>\n",
       "      <td>15959755900</td>\n",
       "    </tr>\n",
       "    <tr>\n",
       "      <th>202001021050</th>\n",
       "      <td>55200</td>\n",
       "      <td>55300</td>\n",
       "      <td>55100</td>\n",
       "      <td>55200</td>\n",
       "      <td>417215</td>\n",
       "      <td>23020438200</td>\n",
       "    </tr>\n",
       "    <tr>\n",
       "      <th>...</th>\n",
       "      <td>...</td>\n",
       "      <td>...</td>\n",
       "      <td>...</td>\n",
       "      <td>...</td>\n",
       "      <td>...</td>\n",
       "      <td>...</td>\n",
       "    </tr>\n",
       "    <tr>\n",
       "      <th>202003111450</th>\n",
       "      <td>52100</td>\n",
       "      <td>52200</td>\n",
       "      <td>52000</td>\n",
       "      <td>52100</td>\n",
       "      <td>1195119</td>\n",
       "      <td>62271900000</td>\n",
       "    </tr>\n",
       "    <tr>\n",
       "      <th>202003111500</th>\n",
       "      <td>52100</td>\n",
       "      <td>52400</td>\n",
       "      <td>52000</td>\n",
       "      <td>52300</td>\n",
       "      <td>860750</td>\n",
       "      <td>44942249300</td>\n",
       "    </tr>\n",
       "    <tr>\n",
       "      <th>202003111510</th>\n",
       "      <td>52300</td>\n",
       "      <td>52400</td>\n",
       "      <td>52100</td>\n",
       "      <td>52100</td>\n",
       "      <td>1116420</td>\n",
       "      <td>58373679200</td>\n",
       "    </tr>\n",
       "    <tr>\n",
       "      <th>202003111520</th>\n",
       "      <td>52100</td>\n",
       "      <td>52300</td>\n",
       "      <td>52000</td>\n",
       "      <td>52200</td>\n",
       "      <td>1132417</td>\n",
       "      <td>59044496700</td>\n",
       "    </tr>\n",
       "    <tr>\n",
       "      <th>202003111530</th>\n",
       "      <td>52200</td>\n",
       "      <td>52200</td>\n",
       "      <td>52100</td>\n",
       "      <td>52100</td>\n",
       "      <td>2437817</td>\n",
       "      <td>127010265700</td>\n",
       "    </tr>\n",
       "  </tbody>\n",
       "</table>\n",
       "<p>1869 rows × 6 columns</p>\n",
       "</div>"
      ],
      "text/plain": [
       "               open   high    low  close   volume  volume_price\n",
       "date_time                                                      \n",
       "202001021010  55500  56000  55500  55500  1847051  102799934000\n",
       "202001021020  55500  55700  55300  55300   671417   37250860500\n",
       "202001021030  55400  55400  55100  55300   488563   26984027000\n",
       "202001021040  55300  55300  55100  55300   289139   15959755900\n",
       "202001021050  55200  55300  55100  55200   417215   23020438200\n",
       "...             ...    ...    ...    ...      ...           ...\n",
       "202003111450  52100  52200  52000  52100  1195119   62271900000\n",
       "202003111500  52100  52400  52000  52300   860750   44942249300\n",
       "202003111510  52300  52400  52100  52100  1116420   58373679200\n",
       "202003111520  52100  52300  52000  52200  1132417   59044496700\n",
       "202003111530  52200  52200  52100  52100  2437817  127010265700\n",
       "\n",
       "[1869 rows x 6 columns]"
      ]
     },
     "execution_count": 8,
     "metadata": {},
     "output_type": "execute_result"
    }
   ],
   "source": [
    "data"
   ]
  },
  {
   "cell_type": "code",
   "execution_count": 9,
   "metadata": {},
   "outputs": [
    {
     "data": {
      "text/html": [
       "<div>\n",
       "<style scoped>\n",
       "    .dataframe tbody tr th:only-of-type {\n",
       "        vertical-align: middle;\n",
       "    }\n",
       "\n",
       "    .dataframe tbody tr th {\n",
       "        vertical-align: top;\n",
       "    }\n",
       "\n",
       "    .dataframe thead th {\n",
       "        text-align: right;\n",
       "    }\n",
       "</style>\n",
       "<table border=\"1\" class=\"dataframe\">\n",
       "  <thead>\n",
       "    <tr style=\"text-align: right;\">\n",
       "      <th></th>\n",
       "      <th>open</th>\n",
       "      <th>high</th>\n",
       "      <th>low</th>\n",
       "      <th>close</th>\n",
       "      <th>volume</th>\n",
       "      <th>volume_price</th>\n",
       "    </tr>\n",
       "  </thead>\n",
       "  <tbody>\n",
       "    <tr>\n",
       "      <th>count</th>\n",
       "      <td>1869.000000</td>\n",
       "      <td>1869.000000</td>\n",
       "      <td>1869.000000</td>\n",
       "      <td>1869.000000</td>\n",
       "      <td>1.869000e+03</td>\n",
       "      <td>1.869000e+03</td>\n",
       "    </tr>\n",
       "    <tr>\n",
       "      <th>mean</th>\n",
       "      <td>58375.441413</td>\n",
       "      <td>58480.042804</td>\n",
       "      <td>58248.314607</td>\n",
       "      <td>58378.651685</td>\n",
       "      <td>4.757080e+05</td>\n",
       "      <td>2.747821e+10</td>\n",
       "    </tr>\n",
       "    <tr>\n",
       "      <th>std</th>\n",
       "      <td>2384.425146</td>\n",
       "      <td>2379.130084</td>\n",
       "      <td>2399.840197</td>\n",
       "      <td>2387.132956</td>\n",
       "      <td>5.191502e+05</td>\n",
       "      <td>2.953392e+10</td>\n",
       "    </tr>\n",
       "    <tr>\n",
       "      <th>min</th>\n",
       "      <td>52100.000000</td>\n",
       "      <td>52200.000000</td>\n",
       "      <td>52000.000000</td>\n",
       "      <td>52100.000000</td>\n",
       "      <td>0.000000e+00</td>\n",
       "      <td>0.000000e+00</td>\n",
       "    </tr>\n",
       "    <tr>\n",
       "      <th>25%</th>\n",
       "      <td>56500.000000</td>\n",
       "      <td>56600.000000</td>\n",
       "      <td>56300.000000</td>\n",
       "      <td>56500.000000</td>\n",
       "      <td>1.984670e+05</td>\n",
       "      <td>1.178510e+10</td>\n",
       "    </tr>\n",
       "    <tr>\n",
       "      <th>50%</th>\n",
       "      <td>58900.000000</td>\n",
       "      <td>59000.000000</td>\n",
       "      <td>58800.000000</td>\n",
       "      <td>58900.000000</td>\n",
       "      <td>3.571690e+05</td>\n",
       "      <td>2.080670e+10</td>\n",
       "    </tr>\n",
       "    <tr>\n",
       "      <th>75%</th>\n",
       "      <td>60100.000000</td>\n",
       "      <td>60200.000000</td>\n",
       "      <td>60000.000000</td>\n",
       "      <td>60100.000000</td>\n",
       "      <td>5.672050e+05</td>\n",
       "      <td>3.257072e+10</td>\n",
       "    </tr>\n",
       "    <tr>\n",
       "      <th>max</th>\n",
       "      <td>62700.000000</td>\n",
       "      <td>62800.000000</td>\n",
       "      <td>62600.000000</td>\n",
       "      <td>62800.000000</td>\n",
       "      <td>7.771531e+06</td>\n",
       "      <td>4.554117e+11</td>\n",
       "    </tr>\n",
       "  </tbody>\n",
       "</table>\n",
       "</div>"
      ],
      "text/plain": [
       "               open          high           low         close        volume  \\\n",
       "count   1869.000000   1869.000000   1869.000000   1869.000000  1.869000e+03   \n",
       "mean   58375.441413  58480.042804  58248.314607  58378.651685  4.757080e+05   \n",
       "std     2384.425146   2379.130084   2399.840197   2387.132956  5.191502e+05   \n",
       "min    52100.000000  52200.000000  52000.000000  52100.000000  0.000000e+00   \n",
       "25%    56500.000000  56600.000000  56300.000000  56500.000000  1.984670e+05   \n",
       "50%    58900.000000  59000.000000  58800.000000  58900.000000  3.571690e+05   \n",
       "75%    60100.000000  60200.000000  60000.000000  60100.000000  5.672050e+05   \n",
       "max    62700.000000  62800.000000  62600.000000  62800.000000  7.771531e+06   \n",
       "\n",
       "       volume_price  \n",
       "count  1.869000e+03  \n",
       "mean   2.747821e+10  \n",
       "std    2.953392e+10  \n",
       "min    0.000000e+00  \n",
       "25%    1.178510e+10  \n",
       "50%    2.080670e+10  \n",
       "75%    3.257072e+10  \n",
       "max    4.554117e+11  "
      ]
     },
     "execution_count": 9,
     "metadata": {},
     "output_type": "execute_result"
    }
   ],
   "source": [
    "data.describe()"
   ]
  },
  {
   "cell_type": "markdown",
   "metadata": {},
   "source": [
    "## 2. Data Visualization"
   ]
  },
  {
   "cell_type": "markdown",
   "metadata": {},
   "source": [
    "**2.1 경고창 무시**"
   ]
  },
  {
   "cell_type": "code",
   "execution_count": 10,
   "metadata": {},
   "outputs": [],
   "source": [
    "import warnings\n",
    "warnings.filterwarnings(action='ignore') "
   ]
  },
  {
   "cell_type": "markdown",
   "metadata": {},
   "source": [
    "**2.2 각 피쳐별 시계열 그래프**"
   ]
  },
  {
   "cell_type": "code",
   "execution_count": 11,
   "metadata": {
    "scrolled": false
   },
   "outputs": [
    {
     "data": {
      "image/png": "[encoded data removed]",
      "text/plain": [
       "<Figure size 1008x720 with 6 Axes>"
      ]
     },
     "metadata": {
      "needs_background": "light"
     },
     "output_type": "display_data"
    }
   ],
   "source": [
    "%matplotlib inline\n",
    "import matplotlib.pyplot as plt\n",
    "plt.rcParams[\"figure.figsize\"] = (14,10)\n",
    "data.plot(subplots=True)\n",
    "plt.show()"
   ]
  },
  {
   "cell_type": "markdown",
   "metadata": {},
   "source": [
    "## 3. Data Handling"
   ]
  },
  {
   "cell_type": "markdown",
   "metadata": {},
   "source": [
    "**3.1 학습과 테스트 데이터를 나누는 지점 --> 90 : 10**"
   ]
  },
  {
   "cell_type": "code",
   "execution_count": 12,
   "metadata": {},
   "outputs": [],
   "source": [
    "TRAIN_SPLIT = int(0.9 * len(data))"
   ]
  },
  {
   "cell_type": "markdown",
   "metadata": {},
   "source": [
    "**3.2 피쳐 정규화 진행 (학습 데이터의 평균과 표준편차를 테스트 데이터에도 지정)**"
   ]
  },
  {
   "cell_type": "code",
   "execution_count": 13,
   "metadata": {},
   "outputs": [],
   "source": [
    "dataset = data.values\n",
    "data_mean, data_std = dataset[:TRAIN_SPLIT].mean(axis=0), dataset[:TRAIN_SPLIT].std(axis=0)\n",
    "dataset = (dataset-data_mean)/data_std"
   ]
  },
  {
   "cell_type": "markdown",
   "metadata": {},
   "source": [
    "**3.3 라이브러리**"
   ]
  },
  {
   "cell_type": "code",
   "execution_count": 14,
   "metadata": {},
   "outputs": [],
   "source": [
    "import numpy as np"
   ]
  },
  {
   "cell_type": "markdown",
   "metadata": {},
   "source": [
    "**3.4 모델용 데이터 셋팅**\n",
    "\n",
    " - 단일 단계 설정에서 모델은 제공된 일부 이력을 기반으로 미래의 단일 지점을 예측하는 방법을 학습합니다.\n",
    " - 아래 함수는 아래와 동일한 윈도우 작업을 수행하지만 여기서는 주어진 단계 크기를 기반으로 과거 관측치를 샘플링합니다."
   ]
  },
  {
   "cell_type": "code",
   "execution_count": 17,
   "metadata": {},
   "outputs": [],
   "source": [
    "def multivariate_data(dataset, target, start_index, end_index,\n",
    "                      history_size, target_size, step,single_step=False) :\n",
    "    \n",
    "    data, labels = [], []\n",
    "    \n",
    "    start_index = start_index + history_size\n",
    "    \n",
    "    if end_index is None : \n",
    "        end_index = len(dataset) - target_size\n",
    "\n",
    "    for i in range(start_index, end_index) :\n",
    "        indices = range(i-history_size, i, step)\n",
    "        data.append(dataset[indices])\n",
    "\n",
    "        if single_step : \n",
    "            labels.append(target[i + target_size])\n",
    "        else :\n",
    "            labels.append(target[i : i + target_size])\n",
    "\n",
    "    return np.array(data), np.array(labels)"
   ]
  },
  {
   "cell_type": "markdown",
   "metadata": {},
   "source": [
    " - 다단계 예측 모델에서 과거 히스토리가 주어지면 모델은 미래의 값 범위를 예측하는 법을 배워야합니다. \n",
    " - 따라서 단일 미래 포인트 만 예측되는 단일 단계 모델과 달리 다단계 모델은 미래의 시퀀스를 예측합니다.\n",
    " - 다단계 모델의 경우 훈련 데이터는 다시 한 시간마다 샘플링 된 지난 5 일 동안의 기록으로 구성됩니다. \n",
    " - 그러나 여기서는 12 시간 동안 온도를 예측하는 방법을 학습해야합니다. \n",
    " - 10 분마다 관측이 수행되므로 결과는 72 개의 예측입니다. \n",
    " - 이 작업을 위해서는 데이터 세트를 적절히 준비해야하므로 첫 번째 단계는 다시 대상 창을 사용하여 다시 작성하는 것입니다."
   ]
  },
  {
   "cell_type": "code",
   "execution_count": 16,
   "metadata": {},
   "outputs": [
    {
     "ename": "NameError",
     "evalue": "name 'past_history' is not defined",
     "output_type": "error",
     "traceback": [
      "\u001b[0;31m---------------------------------------------------------------------------\u001b[0m",
      "\u001b[0;31mNameError\u001b[0m                                 Traceback (most recent call last)",
      "\u001b[0;32m<ipython-input-16-13497683f2c4>\u001b[0m in \u001b[0;36m<module>\u001b[0;34m\u001b[0m\n\u001b[1;32m     11\u001b[0m \u001b[0;31m#\u001b[0m\u001b[0;34m\u001b[0m\u001b[0;34m\u001b[0m\u001b[0;34m\u001b[0m\u001b[0m\n\u001b[1;32m     12\u001b[0m x_train_multi, y_train_multi = multivariate_data(dataset, dataset[:, 1], 0,\n\u001b[0;32m---> 13\u001b[0;31m                                                  \u001b[0mTRAIN_SPLIT\u001b[0m\u001b[0;34m,\u001b[0m \u001b[0mpast_history\u001b[0m\u001b[0;34m,\u001b[0m\u001b[0;34m\u001b[0m\u001b[0;34m\u001b[0m\u001b[0m\n\u001b[0m\u001b[1;32m     14\u001b[0m                                                  future_target, STEP)\n\u001b[1;32m     15\u001b[0m x_val_multi, y_val_multi = multivariate_data(dataset, dataset[:, 1],\n",
      "\u001b[0;31mNameError\u001b[0m: name 'past_history' is not defined"
     ]
    }
   ],
   "source": [
    "future_target = 72\n",
    "\n",
    "x_train_multi, y_train_multi = multivariate_data(dataset, dataset[:, 1], 0,\n",
    "                                                 TRAIN_SPLIT, past_history,\n",
    "                                                 future_target, STEP)\n",
    "x_val_multi, y_val_multi = multivariate_data(dataset, dataset[:, 1],\n",
    "                                             TRAIN_SPLIT, None, past_history,\n",
    "                                             future_target, STEP)"
   ]
  },
  {
   "cell_type": "code",
   "execution_count": null,
   "metadata": {},
   "outputs": [],
   "source": [
    "print ('Single window of past history : {}'.format(x_train_multi[0].shape))\n",
    "print ('\\nTarget temperature to predict : {}'.format(y_train_multi[0].shape))"
   ]
  },
  {
   "cell_type": "code",
   "execution_count": null,
   "metadata": {},
   "outputs": [],
   "source": [
    "# Import Library\n",
    "import tensorflow as tf\n",
    "\n",
    "BATCH_SIZE = 256\n",
    "BUFFER_SIZE = 10000\n",
    "\n",
    "train_data_multi = tf.data.Dataset.from_tensor_slices((x_train_multi, y_train_multi))\n",
    "train_data_multi = train_data_multi.cache().shuffle(BUFFER_SIZE).batch(BATCH_SIZE).repeat()\n",
    "\n",
    "val_data_multi = tf.data.Dataset.from_tensor_slices((x_val_multi, y_val_multi))\n",
    "val_data_multi = val_data_multi.batch(BATCH_SIZE).repeat()"
   ]
  },
  {
   "cell_type": "code",
   "execution_count": null,
   "metadata": {},
   "outputs": [],
   "source": [
    "def create_time_steps(length):\n",
    "    return list(range(-length, 0))"
   ]
  },
  {
   "cell_type": "code",
   "execution_count": null,
   "metadata": {},
   "outputs": [],
   "source": [
    "def multi_step_plot(history, true_future, prediction):\n",
    "    plt.figure(figsize=(12, 6))\n",
    "    num_in = create_time_steps(len(history))\n",
    "    num_out = len(true_future)\n",
    "\n",
    "    plt.plot(num_in, np.array(history[:, 1]), label='History')\n",
    "    plt.plot(np.arange(num_out)/STEP, np.array(true_future), 'bo', label='True Future')\n",
    "    \n",
    "    if prediction.any():\n",
    "        plt.plot(np.arange(num_out)/STEP, np.array(prediction), 'ro', label='Predicted Future')\n",
    "    plt.legend(loc='upper left')\n",
    "    plt.show()"
   ]
  },
  {
   "cell_type": "code",
   "execution_count": null,
   "metadata": {},
   "outputs": [],
   "source": [
    "for x, y in train_data_multi.take(1):\n",
    "    multi_step_plot(x[0], y[0], np.array([0]))"
   ]
  },
  {
   "cell_type": "code",
   "execution_count": null,
   "metadata": {},
   "outputs": [],
   "source": [
    "EVALUATION_INTERVAL = 200\n",
    "EPOCHS = 10\n",
    "\n",
    "single_step_history = single_step_model.fit(train_data_single, epochs=EPOCHS,\n",
    "                                            steps_per_epoch=EVALUATION_INTERVAL,\n",
    "                                            validation_data=val_data_single,\n",
    "                                            validation_steps=50)"
   ]
  },
  {
   "cell_type": "code",
   "execution_count": null,
   "metadata": {},
   "outputs": [],
   "source": [
    "def plot_train_history(history, title):\n",
    "    \n",
    "    loss = history.history['loss']\n",
    "    \n",
    "    val_loss = history.history['val_loss']\n",
    "\n",
    "    epochs = range(len(loss))\n",
    "\n",
    "    plt.figure()\n",
    "\n",
    "    plt.plot(epochs, loss, 'b', label='Training loss')\n",
    "    \n",
    "    plt.plot(epochs, val_loss, 'r', label='Validation loss')\n",
    "    \n",
    "    plt.title(title)\n",
    "    \n",
    "    plt.legend()\n",
    "    \n",
    "    plt.show()"
   ]
  },
  {
   "cell_type": "code",
   "execution_count": null,
   "metadata": {},
   "outputs": [],
   "source": [
    "plot_train_history(single_step_history, 'Single Step Training and validation loss')"
   ]
  },
  {
   "cell_type": "code",
   "execution_count": null,
   "metadata": {},
   "outputs": [],
   "source": [
    "for x, y in val_data_single.take(3):\n",
    "    plot = show_plot([x[0][:,1].numpy(),y[0].numpy(),single_step_model.predict(x)[0]],12,'Single Step Prediction')\n",
    "    plot.show()"
   ]
  }
 ],
 "metadata": {
  "kernelspec": {
   "display_name": "Python 3",
   "language": "python",
   "name": "python3"
  },
  "language_info": {
   "codemirror_mode": {
    "name": "ipython",
    "version": 3
   },
   "file_extension": ".py",
   "mimetype": "text/x-python",
   "name": "python",
   "nbconvert_exporter": "python",
   "pygments_lexer": "ipython3",
   "version": "3.7.3"
  }
 },
 "nbformat": 4,
 "nbformat_minor": 2
}
